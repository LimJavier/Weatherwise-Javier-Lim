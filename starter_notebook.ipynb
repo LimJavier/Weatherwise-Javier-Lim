{
  "cells": [
    {
      "cell_type": "markdown",
      "metadata": {
        "id": "view-in-github",
        "colab_type": "text"
      },
      "source": [
        "<a href=\"https://colab.research.google.com/github/LimJavier/Weatherwise-Javier-Lim/blob/main/starter_notebook.ipynb\" target=\"_parent\"><img src=\"https://colab.research.google.com/assets/colab-badge.svg\" alt=\"Open In Colab\"/></a>"
      ]
    },
    {
      "cell_type": "markdown",
      "id": "72e78a05",
      "metadata": {
        "id": "72e78a05"
      },
      "source": [
        "# 🌦️ WeatherWise – Starter Notebook\n",
        "\n",
        "Welcome to your **WeatherWise** project notebook! This scaffold is designed to help you build your weather advisor app using Python, visualisations, and AI-enhanced development.\n",
        "\n",
        "---\n",
        "\n",
        "📄 **Full Assignment Specification**  \n",
        "See [`ASSIGNMENT.md`](ASSIGNMENT.md) or check the LMS for full details.\n",
        "\n",
        "📝 **Quick Refresher**  \n",
        "A one-page summary is available in [`resources/assignment-summary.md`](resources/assignment-summary.md).\n",
        "\n",
        "---\n",
        "\n",
        "🧠 **This Notebook Structure is Optional**  \n",
        "You’re encouraged to reorganise, rename sections, or remove scaffold cells if you prefer — as long as your final version meets the requirements.\n",
        "\n",
        "✅ You may delete this note before submission.\n",
        "\n"
      ]
    },
    {
      "cell_type": "markdown",
      "id": "fa8c7f6c",
      "metadata": {
        "id": "fa8c7f6c"
      },
      "source": [
        "## 🧰 Setup and Imports\n",
        "\n",
        "This section imports commonly used packages and installs any additional tools used in the project.\n",
        "\n",
        "- You may not need all of these unless you're using specific features (e.g. visualisations, advanced prompting).\n",
        "- The notebook assumes the following packages are **pre-installed** in the provided environment or installable via pip:\n",
        "  - `requests`, `matplotlib`, `pyinputplus`\n",
        "  - `fetch-my-weather` (for accessing weather data easily)\n",
        "  - `hands-on-ai` (for AI logging, comparisons, or prompting tools)\n",
        "\n",
        "If you're running this notebook in **Google Colab**, uncomment the following lines to install the required packages.\n"
      ]
    },
    {
      "cell_type": "code",
      "execution_count": 1,
      "id": "70c3f3f1",
      "metadata": {
        "id": "70c3f3f1",
        "collapsed": true,
        "colab": {
          "base_uri": "https://localhost:8080/"
        },
        "outputId": "d70b10e8-82c2-4e8a-fb39-544bdde910b2"
      },
      "outputs": [
        {
          "output_type": "stream",
          "name": "stdout",
          "text": [
            "Collecting fetch-my-weather\n",
            "  Downloading fetch_my_weather-0.4.0-py3-none-any.whl.metadata (12 kB)\n",
            "Requirement already satisfied: requests>=2.25.0 in /usr/local/lib/python3.12/dist-packages (from fetch-my-weather) (2.32.4)\n",
            "Requirement already satisfied: pydantic>=1.8.0 in /usr/local/lib/python3.12/dist-packages (from fetch-my-weather) (2.11.9)\n",
            "Requirement already satisfied: annotated-types>=0.6.0 in /usr/local/lib/python3.12/dist-packages (from pydantic>=1.8.0->fetch-my-weather) (0.7.0)\n",
            "Requirement already satisfied: pydantic-core==2.33.2 in /usr/local/lib/python3.12/dist-packages (from pydantic>=1.8.0->fetch-my-weather) (2.33.2)\n",
            "Requirement already satisfied: typing-extensions>=4.12.2 in /usr/local/lib/python3.12/dist-packages (from pydantic>=1.8.0->fetch-my-weather) (4.15.0)\n",
            "Requirement already satisfied: typing-inspection>=0.4.0 in /usr/local/lib/python3.12/dist-packages (from pydantic>=1.8.0->fetch-my-weather) (0.4.1)\n",
            "Requirement already satisfied: charset_normalizer<4,>=2 in /usr/local/lib/python3.12/dist-packages (from requests>=2.25.0->fetch-my-weather) (3.4.3)\n",
            "Requirement already satisfied: idna<4,>=2.5 in /usr/local/lib/python3.12/dist-packages (from requests>=2.25.0->fetch-my-weather) (3.10)\n",
            "Requirement already satisfied: urllib3<3,>=1.21.1 in /usr/local/lib/python3.12/dist-packages (from requests>=2.25.0->fetch-my-weather) (2.5.0)\n",
            "Requirement already satisfied: certifi>=2017.4.17 in /usr/local/lib/python3.12/dist-packages (from requests>=2.25.0->fetch-my-weather) (2025.8.3)\n",
            "Downloading fetch_my_weather-0.4.0-py3-none-any.whl (17 kB)\n",
            "Installing collected packages: fetch-my-weather\n",
            "Successfully installed fetch-my-weather-0.4.0\n",
            "Collecting hands-on-ai\n",
            "  Downloading hands_on_ai-0.2.1-py3-none-any.whl.metadata (9.2 kB)\n",
            "Requirement already satisfied: requests in /usr/local/lib/python3.12/dist-packages (from hands-on-ai) (2.32.4)\n",
            "Requirement already satisfied: typer in /usr/local/lib/python3.12/dist-packages (from hands-on-ai) (0.17.4)\n",
            "Collecting python-fasthtml (from hands-on-ai)\n",
            "  Downloading python_fasthtml-0.12.29-py3-none-any.whl.metadata (9.3 kB)\n",
            "Collecting python-docx (from hands-on-ai)\n",
            "  Downloading python_docx-1.2.0-py3-none-any.whl.metadata (2.0 kB)\n",
            "Collecting pymupdf (from hands-on-ai)\n",
            "  Downloading pymupdf-1.26.4-cp39-abi3-manylinux_2_28_x86_64.whl.metadata (3.4 kB)\n",
            "Requirement already satisfied: scikit-learn in /usr/local/lib/python3.12/dist-packages (from hands-on-ai) (1.6.1)\n",
            "Requirement already satisfied: numpy in /usr/local/lib/python3.12/dist-packages (from hands-on-ai) (2.0.2)\n",
            "Collecting instructor>=1.11.0 (from hands-on-ai)\n",
            "  Downloading instructor-1.11.3-py3-none-any.whl.metadata (11 kB)\n",
            "Requirement already satisfied: pydantic>=2.0 in /usr/local/lib/python3.12/dist-packages (from hands-on-ai) (2.11.9)\n",
            "Requirement already satisfied: aiohttp<4.0.0,>=3.9.1 in /usr/local/lib/python3.12/dist-packages (from instructor>=1.11.0->hands-on-ai) (3.12.15)\n",
            "Collecting diskcache>=5.6.3 (from instructor>=1.11.0->hands-on-ai)\n",
            "  Downloading diskcache-5.6.3-py3-none-any.whl.metadata (20 kB)\n",
            "Requirement already satisfied: docstring-parser<1.0,>=0.16 in /usr/local/lib/python3.12/dist-packages (from instructor>=1.11.0->hands-on-ai) (0.17.0)\n",
            "Requirement already satisfied: jinja2<4.0.0,>=3.1.4 in /usr/local/lib/python3.12/dist-packages (from instructor>=1.11.0->hands-on-ai) (3.1.6)\n",
            "Collecting jiter<0.11,>=0.6.1 (from instructor>=1.11.0->hands-on-ai)\n",
            "  Downloading jiter-0.10.0-cp312-cp312-manylinux_2_17_x86_64.manylinux2014_x86_64.whl.metadata (5.2 kB)\n",
            "Requirement already satisfied: openai<2.0.0,>=1.70.0 in /usr/local/lib/python3.12/dist-packages (from instructor>=1.11.0->hands-on-ai) (1.108.0)\n",
            "Requirement already satisfied: pydantic-core<3.0.0,>=2.18.0 in /usr/local/lib/python3.12/dist-packages (from instructor>=1.11.0->hands-on-ai) (2.33.2)\n",
            "Requirement already satisfied: rich<15.0.0,>=13.7.0 in /usr/local/lib/python3.12/dist-packages (from instructor>=1.11.0->hands-on-ai) (13.9.4)\n",
            "Requirement already satisfied: tenacity<10.0.0,>=8.2.3 in /usr/local/lib/python3.12/dist-packages (from instructor>=1.11.0->hands-on-ai) (8.5.0)\n",
            "Requirement already satisfied: annotated-types>=0.6.0 in /usr/local/lib/python3.12/dist-packages (from pydantic>=2.0->hands-on-ai) (0.7.0)\n",
            "Requirement already satisfied: typing-extensions>=4.12.2 in /usr/local/lib/python3.12/dist-packages (from pydantic>=2.0->hands-on-ai) (4.15.0)\n",
            "Requirement already satisfied: typing-inspection>=0.4.0 in /usr/local/lib/python3.12/dist-packages (from pydantic>=2.0->hands-on-ai) (0.4.1)\n",
            "Requirement already satisfied: charset_normalizer<4,>=2 in /usr/local/lib/python3.12/dist-packages (from requests->hands-on-ai) (3.4.3)\n",
            "Requirement already satisfied: idna<4,>=2.5 in /usr/local/lib/python3.12/dist-packages (from requests->hands-on-ai) (3.10)\n",
            "Requirement already satisfied: urllib3<3,>=1.21.1 in /usr/local/lib/python3.12/dist-packages (from requests->hands-on-ai) (2.5.0)\n",
            "Requirement already satisfied: certifi>=2017.4.17 in /usr/local/lib/python3.12/dist-packages (from requests->hands-on-ai) (2025.8.3)\n",
            "Requirement already satisfied: click>=8.0.0 in /usr/local/lib/python3.12/dist-packages (from typer->hands-on-ai) (8.2.1)\n",
            "Requirement already satisfied: shellingham>=1.3.0 in /usr/local/lib/python3.12/dist-packages (from typer->hands-on-ai) (1.5.4)\n",
            "Requirement already satisfied: lxml>=3.1.0 in /usr/local/lib/python3.12/dist-packages (from python-docx->hands-on-ai) (5.4.0)\n",
            "Requirement already satisfied: fastcore>=1.8.1 in /usr/local/lib/python3.12/dist-packages (from python-fasthtml->hands-on-ai) (1.8.8)\n",
            "Requirement already satisfied: python-dateutil in /usr/local/lib/python3.12/dist-packages (from python-fasthtml->hands-on-ai) (2.9.0.post0)\n",
            "Requirement already satisfied: starlette>0.33 in /usr/local/lib/python3.12/dist-packages (from python-fasthtml->hands-on-ai) (0.48.0)\n",
            "Requirement already satisfied: oauthlib in /usr/local/lib/python3.12/dist-packages (from python-fasthtml->hands-on-ai) (3.3.1)\n",
            "Requirement already satisfied: itsdangerous in /usr/local/lib/python3.12/dist-packages (from python-fasthtml->hands-on-ai) (2.2.0)\n",
            "Requirement already satisfied: uvicorn>=0.30 in /usr/local/lib/python3.12/dist-packages (from uvicorn[standard]>=0.30->python-fasthtml->hands-on-ai) (0.35.0)\n",
            "Requirement already satisfied: httpx in /usr/local/lib/python3.12/dist-packages (from python-fasthtml->hands-on-ai) (0.28.1)\n",
            "Collecting fastlite>=0.1.1 (from python-fasthtml->hands-on-ai)\n",
            "  Downloading fastlite-0.2.1-py3-none-any.whl.metadata (12 kB)\n",
            "Requirement already satisfied: python-multipart in /usr/local/lib/python3.12/dist-packages (from python-fasthtml->hands-on-ai) (0.0.20)\n",
            "Requirement already satisfied: beautifulsoup4 in /usr/local/lib/python3.12/dist-packages (from python-fasthtml->hands-on-ai) (4.13.5)\n",
            "Requirement already satisfied: scipy>=1.6.0 in /usr/local/lib/python3.12/dist-packages (from scikit-learn->hands-on-ai) (1.16.2)\n",
            "Requirement already satisfied: joblib>=1.2.0 in /usr/local/lib/python3.12/dist-packages (from scikit-learn->hands-on-ai) (1.5.2)\n",
            "Requirement already satisfied: threadpoolctl>=3.1.0 in /usr/local/lib/python3.12/dist-packages (from scikit-learn->hands-on-ai) (3.6.0)\n",
            "Requirement already satisfied: aiohappyeyeballs>=2.5.0 in /usr/local/lib/python3.12/dist-packages (from aiohttp<4.0.0,>=3.9.1->instructor>=1.11.0->hands-on-ai) (2.6.1)\n",
            "Requirement already satisfied: aiosignal>=1.4.0 in /usr/local/lib/python3.12/dist-packages (from aiohttp<4.0.0,>=3.9.1->instructor>=1.11.0->hands-on-ai) (1.4.0)\n",
            "Requirement already satisfied: attrs>=17.3.0 in /usr/local/lib/python3.12/dist-packages (from aiohttp<4.0.0,>=3.9.1->instructor>=1.11.0->hands-on-ai) (25.3.0)\n",
            "Requirement already satisfied: frozenlist>=1.1.1 in /usr/local/lib/python3.12/dist-packages (from aiohttp<4.0.0,>=3.9.1->instructor>=1.11.0->hands-on-ai) (1.7.0)\n",
            "Requirement already satisfied: multidict<7.0,>=4.5 in /usr/local/lib/python3.12/dist-packages (from aiohttp<4.0.0,>=3.9.1->instructor>=1.11.0->hands-on-ai) (6.6.4)\n",
            "Requirement already satisfied: propcache>=0.2.0 in /usr/local/lib/python3.12/dist-packages (from aiohttp<4.0.0,>=3.9.1->instructor>=1.11.0->hands-on-ai) (0.3.2)\n",
            "Requirement already satisfied: yarl<2.0,>=1.17.0 in /usr/local/lib/python3.12/dist-packages (from aiohttp<4.0.0,>=3.9.1->instructor>=1.11.0->hands-on-ai) (1.20.1)\n",
            "Requirement already satisfied: packaging in /usr/local/lib/python3.12/dist-packages (from fastcore>=1.8.1->python-fasthtml->hands-on-ai) (25.0)\n",
            "Collecting apswutils>=0.1.0 (from fastlite>=0.1.1->python-fasthtml->hands-on-ai)\n",
            "  Downloading apswutils-0.1.0-py3-none-any.whl.metadata (7.4 kB)\n",
            "Requirement already satisfied: MarkupSafe>=2.0 in /usr/local/lib/python3.12/dist-packages (from jinja2<4.0.0,>=3.1.4->instructor>=1.11.0->hands-on-ai) (3.0.2)\n",
            "Requirement already satisfied: anyio<5,>=3.5.0 in /usr/local/lib/python3.12/dist-packages (from openai<2.0.0,>=1.70.0->instructor>=1.11.0->hands-on-ai) (4.10.0)\n",
            "Requirement already satisfied: distro<2,>=1.7.0 in /usr/local/lib/python3.12/dist-packages (from openai<2.0.0,>=1.70.0->instructor>=1.11.0->hands-on-ai) (1.9.0)\n",
            "Requirement already satisfied: sniffio in /usr/local/lib/python3.12/dist-packages (from openai<2.0.0,>=1.70.0->instructor>=1.11.0->hands-on-ai) (1.3.1)\n",
            "Requirement already satisfied: tqdm>4 in /usr/local/lib/python3.12/dist-packages (from openai<2.0.0,>=1.70.0->instructor>=1.11.0->hands-on-ai) (4.67.1)\n",
            "Requirement already satisfied: httpcore==1.* in /usr/local/lib/python3.12/dist-packages (from httpx->python-fasthtml->hands-on-ai) (1.0.9)\n",
            "Requirement already satisfied: h11>=0.16 in /usr/local/lib/python3.12/dist-packages (from httpcore==1.*->httpx->python-fasthtml->hands-on-ai) (0.16.0)\n",
            "Requirement already satisfied: markdown-it-py>=2.2.0 in /usr/local/lib/python3.12/dist-packages (from rich<15.0.0,>=13.7.0->instructor>=1.11.0->hands-on-ai) (4.0.0)\n",
            "Requirement already satisfied: pygments<3.0.0,>=2.13.0 in /usr/local/lib/python3.12/dist-packages (from rich<15.0.0,>=13.7.0->instructor>=1.11.0->hands-on-ai) (2.19.2)\n",
            "Collecting httptools>=0.6.3 (from uvicorn[standard]>=0.30->python-fasthtml->hands-on-ai)\n",
            "  Downloading httptools-0.6.4-cp312-cp312-manylinux_2_5_x86_64.manylinux1_x86_64.manylinux_2_17_x86_64.manylinux2014_x86_64.whl.metadata (3.6 kB)\n",
            "Requirement already satisfied: python-dotenv>=0.13 in /usr/local/lib/python3.12/dist-packages (from uvicorn[standard]>=0.30->python-fasthtml->hands-on-ai) (1.1.1)\n",
            "Requirement already satisfied: pyyaml>=5.1 in /usr/local/lib/python3.12/dist-packages (from uvicorn[standard]>=0.30->python-fasthtml->hands-on-ai) (6.0.2)\n",
            "Collecting uvloop>=0.15.1 (from uvicorn[standard]>=0.30->python-fasthtml->hands-on-ai)\n",
            "  Downloading uvloop-0.21.0-cp312-cp312-manylinux_2_17_x86_64.manylinux2014_x86_64.whl.metadata (4.9 kB)\n",
            "Collecting watchfiles>=0.13 (from uvicorn[standard]>=0.30->python-fasthtml->hands-on-ai)\n",
            "  Downloading watchfiles-1.1.0-cp312-cp312-manylinux_2_17_x86_64.manylinux2014_x86_64.whl.metadata (4.9 kB)\n",
            "Requirement already satisfied: websockets>=10.4 in /usr/local/lib/python3.12/dist-packages (from uvicorn[standard]>=0.30->python-fasthtml->hands-on-ai) (15.0.1)\n",
            "Requirement already satisfied: soupsieve>1.2 in /usr/local/lib/python3.12/dist-packages (from beautifulsoup4->python-fasthtml->hands-on-ai) (2.8)\n",
            "Requirement already satisfied: six>=1.5 in /usr/local/lib/python3.12/dist-packages (from python-dateutil->python-fasthtml->hands-on-ai) (1.17.0)\n",
            "Collecting apsw (from apswutils>=0.1.0->fastlite>=0.1.1->python-fasthtml->hands-on-ai)\n",
            "  Downloading apsw-3.50.4.0-cp312-cp312-manylinux_2_28_x86_64.whl.metadata (3.7 kB)\n",
            "Requirement already satisfied: mdurl~=0.1 in /usr/local/lib/python3.12/dist-packages (from markdown-it-py>=2.2.0->rich<15.0.0,>=13.7.0->instructor>=1.11.0->hands-on-ai) (0.1.2)\n",
            "Downloading hands_on_ai-0.2.1-py3-none-any.whl (143 kB)\n",
            "\u001b[2K   \u001b[90m━━━━━━━━━━━━━━━━━━━━━━━━━━━━━━━━━━━━━━━━\u001b[0m \u001b[32m143.7/143.7 kB\u001b[0m \u001b[31m4.7 MB/s\u001b[0m eta \u001b[36m0:00:00\u001b[0m\n",
            "\u001b[?25hDownloading instructor-1.11.3-py3-none-any.whl (155 kB)\n",
            "\u001b[2K   \u001b[90m━━━━━━━━━━━━━━━━━━━━━━━━━━━━━━━━━━━━━━━━\u001b[0m \u001b[32m155.5/155.5 kB\u001b[0m \u001b[31m13.4 MB/s\u001b[0m eta \u001b[36m0:00:00\u001b[0m\n",
            "\u001b[?25hDownloading pymupdf-1.26.4-cp39-abi3-manylinux_2_28_x86_64.whl (24.1 MB)\n",
            "\u001b[2K   \u001b[90m━━━━━━━━━━━━━━━━━━━━━━━━━━━━━━━━━━━━━━━━\u001b[0m \u001b[32m24.1/24.1 MB\u001b[0m \u001b[31m57.3 MB/s\u001b[0m eta \u001b[36m0:00:00\u001b[0m\n",
            "\u001b[?25hDownloading python_docx-1.2.0-py3-none-any.whl (252 kB)\n",
            "\u001b[2K   \u001b[90m━━━━━━━━━━━━━━━━━━━━━━━━━━━━━━━━━━━━━━━━\u001b[0m \u001b[32m253.0/253.0 kB\u001b[0m \u001b[31m17.3 MB/s\u001b[0m eta \u001b[36m0:00:00\u001b[0m\n",
            "\u001b[?25hDownloading python_fasthtml-0.12.29-py3-none-any.whl (71 kB)\n",
            "\u001b[2K   \u001b[90m━━━━━━━━━━━━━━━━━━━━━━━━━━━━━━━━━━━━━━━━\u001b[0m \u001b[32m71.0/71.0 kB\u001b[0m \u001b[31m5.1 MB/s\u001b[0m eta \u001b[36m0:00:00\u001b[0m\n",
            "\u001b[?25hDownloading diskcache-5.6.3-py3-none-any.whl (45 kB)\n",
            "\u001b[2K   \u001b[90m━━━━━━━━━━━━━━━━━━━━━━━━━━━━━━━━━━━━━━━━\u001b[0m \u001b[32m45.5/45.5 kB\u001b[0m \u001b[31m3.4 MB/s\u001b[0m eta \u001b[36m0:00:00\u001b[0m\n",
            "\u001b[?25hDownloading fastlite-0.2.1-py3-none-any.whl (17 kB)\n",
            "Downloading jiter-0.10.0-cp312-cp312-manylinux_2_17_x86_64.manylinux2014_x86_64.whl (352 kB)\n",
            "\u001b[2K   \u001b[90m━━━━━━━━━━━━━━━━━━━━━━━━━━━━━━━━━━━━━━━━\u001b[0m \u001b[32m352.0/352.0 kB\u001b[0m \u001b[31m25.3 MB/s\u001b[0m eta \u001b[36m0:00:00\u001b[0m\n",
            "\u001b[?25hDownloading apswutils-0.1.0-py3-none-any.whl (80 kB)\n",
            "\u001b[2K   \u001b[90m━━━━━━━━━━━━━━━━━━━━━━━━━━━━━━━━━━━━━━━━\u001b[0m \u001b[32m80.5/80.5 kB\u001b[0m \u001b[31m7.6 MB/s\u001b[0m eta \u001b[36m0:00:00\u001b[0m\n",
            "\u001b[?25hDownloading httptools-0.6.4-cp312-cp312-manylinux_2_5_x86_64.manylinux1_x86_64.manylinux_2_17_x86_64.manylinux2014_x86_64.whl (510 kB)\n",
            "\u001b[2K   \u001b[90m━━━━━━━━━━━━━━━━━━━━━━━━━━━━━━━━━━━━━━━━\u001b[0m \u001b[32m510.8/510.8 kB\u001b[0m \u001b[31m40.2 MB/s\u001b[0m eta \u001b[36m0:00:00\u001b[0m\n",
            "\u001b[?25hDownloading uvloop-0.21.0-cp312-cp312-manylinux_2_17_x86_64.manylinux2014_x86_64.whl (4.7 MB)\n",
            "\u001b[2K   \u001b[90m━━━━━━━━━━━━━━━━━━━━━━━━━━━━━━━━━━━━━━━━\u001b[0m \u001b[32m4.7/4.7 MB\u001b[0m \u001b[31m116.0 MB/s\u001b[0m eta \u001b[36m0:00:00\u001b[0m\n",
            "\u001b[?25hDownloading watchfiles-1.1.0-cp312-cp312-manylinux_2_17_x86_64.manylinux2014_x86_64.whl (452 kB)\n",
            "\u001b[2K   \u001b[90m━━━━━━━━━━━━━━━━━━━━━━━━━━━━━━━━━━━━━━━━\u001b[0m \u001b[32m452.2/452.2 kB\u001b[0m \u001b[31m35.2 MB/s\u001b[0m eta \u001b[36m0:00:00\u001b[0m\n",
            "\u001b[?25hDownloading apsw-3.50.4.0-cp312-cp312-manylinux_2_28_x86_64.whl (7.1 MB)\n",
            "\u001b[2K   \u001b[90m━━━━━━━━━━━━━━━━━━━━━━━━━━━━━━━━━━━━━━━━\u001b[0m \u001b[32m7.1/7.1 MB\u001b[0m \u001b[31m100.2 MB/s\u001b[0m eta \u001b[36m0:00:00\u001b[0m\n",
            "\u001b[?25hInstalling collected packages: uvloop, python-docx, pymupdf, jiter, httptools, diskcache, apsw, watchfiles, apswutils, fastlite, python-fasthtml, instructor, hands-on-ai\n",
            "  Attempting uninstall: jiter\n",
            "    Found existing installation: jiter 0.11.0\n",
            "    Uninstalling jiter-0.11.0:\n",
            "      Successfully uninstalled jiter-0.11.0\n",
            "Successfully installed apsw-3.50.4.0 apswutils-0.1.0 diskcache-5.6.3 fastlite-0.2.1 hands-on-ai-0.2.1 httptools-0.6.4 instructor-1.11.3 jiter-0.10.0 pymupdf-1.26.4 python-docx-1.2.0 python-fasthtml-0.12.29 uvloop-0.21.0 watchfiles-1.1.0\n",
            "Collecting pyinputplus\n",
            "  Downloading PyInputPlus-0.2.12.tar.gz (20 kB)\n",
            "  Installing build dependencies ... \u001b[?25l\u001b[?25hdone\n",
            "  Getting requirements to build wheel ... \u001b[?25l\u001b[?25hdone\n",
            "  Preparing metadata (pyproject.toml) ... \u001b[?25l\u001b[?25hdone\n",
            "Collecting pysimplevalidate>=0.2.7 (from pyinputplus)\n",
            "  Downloading PySimpleValidate-0.2.12.tar.gz (22 kB)\n",
            "  Installing build dependencies ... \u001b[?25l\u001b[?25hdone\n",
            "  Getting requirements to build wheel ... \u001b[?25l\u001b[?25hdone\n",
            "  Preparing metadata (pyproject.toml) ... \u001b[?25l\u001b[?25hdone\n",
            "Collecting stdiomask>=0.0.3 (from pyinputplus)\n",
            "  Downloading stdiomask-0.0.6.tar.gz (3.6 kB)\n",
            "  Installing build dependencies ... \u001b[?25l\u001b[?25hdone\n",
            "  Getting requirements to build wheel ... \u001b[?25l\u001b[?25hdone\n",
            "  Preparing metadata (pyproject.toml) ... \u001b[?25l\u001b[?25hdone\n",
            "Building wheels for collected packages: pyinputplus, pysimplevalidate, stdiomask\n",
            "  Building wheel for pyinputplus (pyproject.toml) ... \u001b[?25l\u001b[?25hdone\n",
            "  Created wheel for pyinputplus: filename=pyinputplus-0.2.12-py3-none-any.whl size=11348 sha256=8800288693052b5a0b334973e8ac424944f7cae4b91aab35466fb5583975a835\n",
            "  Stored in directory: /root/.cache/pip/wheels/85/81/c1/325c8199c5c4de8a0b9af900ff9cd8bd69853e3d9419493512\n",
            "  Building wheel for pysimplevalidate (pyproject.toml) ... \u001b[?25l\u001b[?25hdone\n",
            "  Created wheel for pysimplevalidate: filename=pysimplevalidate-0.2.12-py3-none-any.whl size=16225 sha256=7e2f64a0b47cea55e38362560232c5b57caedbdb9f753e5c2c7ae7bc12fd07a4\n",
            "  Stored in directory: /root/.cache/pip/wheels/09/de/18/4dd2be0dbdf31870c6f0abde43b0de197b1c095655ad7da5c2\n",
            "  Building wheel for stdiomask (pyproject.toml) ... \u001b[?25l\u001b[?25hdone\n",
            "  Created wheel for stdiomask: filename=stdiomask-0.0.6-py3-none-any.whl size=3358 sha256=240f692dd3824ffd2e339d2bff704689b1787e5389849a9f3e967169a6486a44\n",
            "  Stored in directory: /root/.cache/pip/wheels/05/c7/e6/c66ff8c008b4d73f2db458feb4922075e7755853fe496e5135\n",
            "Successfully built pyinputplus pysimplevalidate stdiomask\n",
            "Installing collected packages: stdiomask, pysimplevalidate, pyinputplus\n",
            "Successfully installed pyinputplus-0.2.12 pysimplevalidate-0.2.12 stdiomask-0.0.6\n"
          ]
        }
      ],
      "source": [
        "# 🧪 Optional packages — uncomment if needed in Colab or JupyterHub\n",
        "!pip install fetch-my-weather\n",
        "!pip install hands-on-ai\n",
        "!pip install pyinputplus"
      ]
    },
    {
      "cell_type": "code",
      "source": [
        "import os\n",
        "\n",
        "os.environ['HANDS_ON_AI_SERVER'] = 'http://ollama.serveur.au'\n",
        "os.environ['HANDS_ON_AI_MODEL'] = 'granite3.2'\n",
        "os.environ['HANDS_ON_AI_API_KEY'] = input('Enter your API key: ')"
      ],
      "metadata": {
        "id": "B2JKlJfrGgIb"
      },
      "id": "B2JKlJfrGgIb",
      "execution_count": null,
      "outputs": []
    },
    {
      "cell_type": "markdown",
      "id": "59ae7543",
      "metadata": {
        "id": "59ae7543"
      },
      "source": [
        "## 📦 Setup and Configuration\n",
        "Import required packages and setup environment."
      ]
    },
    {
      "cell_type": "code",
      "execution_count": 9,
      "id": "f1dd051e",
      "metadata": {
        "id": "f1dd051e"
      },
      "outputs": [],
      "source": [
        "import requests\n",
        "import matplotlib.pyplot as plt\n",
        "import pyinputplus as pyip\n",
        "import fetch_my_weather\n",
        "import hands_on_ai\n",
        "# ✅ Import after installing (if needed)\n",
        "from fetch_my_weather import get_weather\n",
        "from hands_on_ai.chat import get_response\n",
        "\n",
        "# Add any other setup code here"
      ]
    },
    {
      "cell_type": "markdown",
      "id": "f736ade3",
      "metadata": {
        "id": "f736ade3"
      },
      "source": [
        "## 🌤️ Weather Data Functions"
      ]
    },
    {
      "cell_type": "code",
      "execution_count": 28,
      "id": "7a2c7cd0",
      "metadata": {
        "id": "7a2c7cd0"
      },
      "outputs": [],
      "source": [
        "# Define get_weather_data() function here\n",
        "def get_weather_data(location, forecast_days=5):\n",
        "    \"\"\"\n",
        "    Retrieve weather data for a specified location.\n",
        "\n",
        "    Args:\n",
        "        location (str): City or location name\n",
        "        forecast_days (int): Number of days to forecast (1-5)\n",
        "\n",
        "    Returns:\n",
        "        dict: Weather data including current conditions and forecast\n",
        "    \"\"\"\n",
        "    try:\n",
        "        weather_data = get_weather(location, units=\"m\", format=\"json\")\n",
        "        return weather_data\n",
        "    except Exception as e:\n",
        "        print(f\"Error fetching weather data: {e}\")\n",
        "        return None"
      ]
    },
    {
      "cell_type": "code",
      "source": [
        "# Testing\n",
        "test = get_weather_data('Paris', 5)\n",
        "print(test)\n",
        "\n",
        "# Get weather for a specific city as text\n",
        "paris_weather = fetch_my_weather.get_weather('Paris')\n",
        "print(paris_weather)\n",
        "\n",
        "# Get weather with compact view and metric units\n",
        "berlin_weather = fetch_my_weather.get_weather(\n",
        "    location='Berlin', view_options=\"0\", units=\"m\"\n",
        ")\n",
        "print(berlin_weather)\n"
      ],
      "metadata": {
        "id": "xc3TZl0RhQXm",
        "outputId": "e6d03e3f-d034-49d3-f40b-60ff28d5e440",
        "colab": {
          "base_uri": "https://localhost:8080/"
        }
      },
      "id": "xc3TZl0RhQXm",
      "execution_count": 31,
      "outputs": [
        {
          "output_type": "stream",
          "name": "stdout",
          "text": [
            "current_condition=[CurrentCondition(FeelsLikeC='20', FeelsLikeF='68', cloudcover='25', humidity='46', localObsDateTime='2025-10-01 04:01 PM', observation_time='02:01 PM', precipInches='0.0', precipMM='0.0', pressure='1027', pressureInches='30', temp_C='20', temp_F='68', uvIndex='2', visibility='10', visibilityMiles='6', weatherCode='116', weatherDesc=[WeatherDesc(value='Partly cloudy')], weatherIconUrl=[WeatherIconUrl(value='')], winddir16Point='NNE', winddirDegree='29', windspeedKmph='7', windspeedMiles='4')] nearest_area=[NearestArea(areaName=[AreaName(value='Paris')], country=[Country(value='France')], latitude='48.867', longitude='2.333', population='2110694', region=[Region(value='Ile-de-France')], weatherUrl=[WeatherIconUrl(value='')])] request=[Request(query='Lat 48.86 and Lon 2.35', type='LatLon')] weather=[DailyForecast(astronomy=[Astronomy(moon_illumination='60', moon_phase='Waxing Gibbous', moonrise='05:18 PM', moonset='12:13 AM', sunrise='07:51 AM', sunset='07:30 PM')], avgtempC='15', avgtempF='60', date='2025-10-01', hourly=[HourlyForecast(DewPointC='4', DewPointF='40', FeelsLikeC='13', FeelsLikeF='55', HeatIndexC='13', HeatIndexF='56', WindChillC='13', WindChillF='55', WindGustKmph='13', WindGustMiles='8', chanceoffog='0', chanceoffrost='0', chanceofhightemp='0', chanceofovercast='0', chanceofrain='0', chanceofremdry='91', chanceofsnow='0', chanceofsunshine='86', chanceofthunder='0', chanceofwindy='0', cloudcover='3', humidity='55', precipInches='0.0', precipMM='0.0', pressure='1027', pressureInches='30', tempC='13', tempF='56', time='0', uvIndex='0', visibility='10', visibilityMiles='6', weatherCode='113', weatherDesc=[WeatherDesc(value='Clear ')], weatherIconUrl=[WeatherIconUrl(value='')], winddir16Point='N', winddirDegree='6', windspeedKmph='7', windspeedMiles='4'), HourlyForecast(DewPointC='6', DewPointF='43', FeelsLikeC='11', FeelsLikeF='52', HeatIndexC='12', HeatIndexF='53', WindChillC='11', WindChillF='52', WindGustKmph='12', WindGustMiles='8', chanceoffog='0', chanceoffrost='0', chanceofhightemp='0', chanceofovercast='0', chanceofrain='0', chanceofremdry='82', chanceofsnow='0', chanceofsunshine='88', chanceofthunder='0', chanceofwindy='0', cloudcover='3', humidity='68', precipInches='0.0', precipMM='0.0', pressure='1027', pressureInches='30', tempC='12', tempF='53', time='300', uvIndex='0', visibility='10', visibilityMiles='6', weatherCode='113', weatherDesc=[WeatherDesc(value='Clear ')], weatherIconUrl=[WeatherIconUrl(value='')], winddir16Point='NNE', winddirDegree='18', windspeedKmph='7', windspeedMiles='4'), HourlyForecast(DewPointC='8', DewPointF='46', FeelsLikeC='10', FeelsLikeF='51', HeatIndexC='11', HeatIndexF='51', WindChillC='10', WindChillF='51', WindGustKmph='11', WindGustMiles='7', chanceoffog='0', chanceoffrost='0', chanceofhightemp='0', chanceofovercast='0', chanceofrain='0', chanceofremdry='90', chanceofsnow='0', chanceofsunshine='85', chanceofthunder='0', chanceofwindy='0', cloudcover='4', humidity='80', precipInches='0.0', precipMM='0.0', pressure='1027', pressureInches='30', tempC='11', tempF='51', time='600', uvIndex='0', visibility='10', visibilityMiles='6', weatherCode='113', weatherDesc=[WeatherDesc(value='Clear ')], weatherIconUrl=[WeatherIconUrl(value='')], winddir16Point='NNE', winddirDegree='23', windspeedKmph='6', windspeedMiles='4'), HourlyForecast(DewPointC='8', DewPointF='47', FeelsLikeC='13', FeelsLikeF='56', HeatIndexC='14', HeatIndexF='56', WindChillC='13', WindChillF='56', WindGustKmph='9', WindGustMiles='5', chanceoffog='0', chanceoffrost='0', chanceofhightemp='0', chanceofovercast='0', chanceofrain='0', chanceofremdry='90', chanceofsnow='0', chanceofsunshine='93', chanceofthunder='0', chanceofwindy='0', cloudcover='4', humidity='71', precipInches='0.0', precipMM='0.0', pressure='1028', pressureInches='30', tempC='14', tempF='56', time='900', uvIndex='0', visibility='10', visibilityMiles='6', weatherCode='113', weatherDesc=[WeatherDesc(value='Sunny')], weatherIconUrl=[WeatherIconUrl(value='')], winddir16Point='NNE', winddirDegree='34', windspeedKmph='7', windspeedMiles='4'), HourlyForecast(DewPointC='7', DewPointF='45', FeelsLikeC='18', FeelsLikeF='65', HeatIndexC='18', HeatIndexF='65', WindChillC='18', WindChillF='65', WindGustKmph='8', WindGustMiles='5', chanceoffog='0', chanceoffrost='0', chanceofhightemp='0', chanceofovercast='0', chanceofrain='0', chanceofremdry='84', chanceofsnow='0', chanceofsunshine='86', chanceofthunder='0', chanceofwindy='0', cloudcover='6', humidity='49', precipInches='0.0', precipMM='0.0', pressure='1028', pressureInches='30', tempC='18', tempF='65', time='1200', uvIndex='3', visibility='10', visibilityMiles='6', weatherCode='113', weatherDesc=[WeatherDesc(value='Sunny')], weatherIconUrl=[WeatherIconUrl(value='')], winddir16Point='NE', winddirDegree='38', windspeedKmph='7', windspeedMiles='4'), HourlyForecast(DewPointC='5', DewPointF='42', FeelsLikeC='20', FeelsLikeF='68', HeatIndexC='20', HeatIndexF='68', WindChillC='20', WindChillF='68', WindGustKmph='7', WindGustMiles='5', chanceoffog='0', chanceoffrost='0', chanceofhightemp='0', chanceofovercast='0', chanceofrain='0', chanceofremdry='91', chanceofsnow='0', chanceofsunshine='92', chanceofthunder='0', chanceofwindy='0', cloudcover='15', humidity='38', precipInches='0.0', precipMM='0.0', pressure='1027', pressureInches='30', tempC='20', tempF='68', time='1500', uvIndex='3', visibility='10', visibilityMiles='6', weatherCode='113', weatherDesc=[WeatherDesc(value='Sunny')], weatherIconUrl=[WeatherIconUrl(value='')], winddir16Point='NNE', winddirDegree='28', windspeedKmph='6', windspeedMiles='4'), HourlyForecast(DewPointC='5', DewPointF='41', FeelsLikeC='19', FeelsLikeF='66', HeatIndexC='19', HeatIndexF='66', WindChillC='19', WindChillF='66', WindGustKmph='10', WindGustMiles='6', chanceoffog='0', chanceoffrost='0', chanceofhightemp='0', chanceofovercast='30', chanceofrain='0', chanceofremdry='84', chanceofsnow='0', chanceofsunshine='84', chanceofthunder='0', chanceofwindy='0', cloudcover='51', humidity='41', precipInches='0.0', precipMM='0.0', pressure='1027', pressureInches='30', tempC='19', tempF='66', time='1800', uvIndex='0', visibility='10', visibilityMiles='6', weatherCode='116', weatherDesc=[WeatherDesc(value='Partly Cloudy ')], weatherIconUrl=[WeatherIconUrl(value='')], winddir16Point='NE', winddirDegree='42', windspeedKmph='7', windspeedMiles='4'), HourlyForecast(DewPointC='7', DewPointF='44', FeelsLikeC='16', FeelsLikeF='61', HeatIndexC='16', HeatIndexF='61', WindChillC='16', WindChillF='61', WindGustKmph='12', WindGustMiles='7', chanceoffog='0', chanceoffrost='0', chanceofhightemp='0', chanceofovercast='31', chanceofrain='0', chanceofremdry='84', chanceofsnow='0', chanceofsunshine='86', chanceofthunder='0', chanceofwindy='0', cloudcover='35', humidity='52', precipInches='0.0', precipMM='0.0', pressure='1027', pressureInches='30', tempC='16', tempF='61', time='2100', uvIndex='0', visibility='10', visibilityMiles='6', weatherCode='116', weatherDesc=[WeatherDesc(value='Partly Cloudy ')], weatherIconUrl=[WeatherIconUrl(value='')], winddir16Point='ESE', winddirDegree='111', windspeedKmph='7', windspeedMiles='4')], maxtempC='20', maxtempF='68', mintempC='11', mintempF='51', sunHour='11.8', totalSnow_cm='0.0', uvIndex='1'), DailyForecast(astronomy=[Astronomy(moon_illumination='70', moon_phase='Waxing Gibbous', moonrise='05:44 PM', moonset='01:27 AM', sunrise='07:52 AM', sunset='07:27 PM')], avgtempC='16', avgtempF='60', date='2025-10-02', hourly=[HourlyForecast(DewPointC='7', DewPointF='45', FeelsLikeC='16', FeelsLikeF='60', HeatIndexC='16', HeatIndexF='60', WindChillC='16', WindChillF='60', WindGustKmph='11', WindGustMiles='7', chanceoffog='0', chanceoffrost='0', chanceofhightemp='0', chanceofovercast='45', chanceofrain='0', chanceofremdry='90', chanceofsnow='0', chanceofsunshine='82', chanceofthunder='0', chanceofwindy='0', cloudcover='58', humidity='57', precipInches='0.0', precipMM='0.0', pressure='1027', pressureInches='30', tempC='16', tempF='60', time='0', uvIndex='0', visibility='10', visibilityMiles='6', weatherCode='116', weatherDesc=[WeatherDesc(value='Partly Cloudy ')], weatherIconUrl=[WeatherIconUrl(value='')], winddir16Point='SSE', winddirDegree='151', windspeedKmph='7', windspeedMiles='4'), HourlyForecast(DewPointC='7', DewPointF='44', FeelsLikeC='14', FeelsLikeF='57', HeatIndexC='14', HeatIndexF='57', WindChillC='14', WindChillF='57', WindGustKmph='10', WindGustMiles='6', chanceoffog='0', chanceoffrost='0', chanceofhightemp='0', chanceofovercast='0', chanceofrain='0', chanceofremdry='85', chanceofsnow='0', chanceofsunshine='94', chanceofthunder='0', chanceofwindy='0', cloudcover='13', humidity='62', precipInches='0.0', precipMM='0.0', pressure='1027', pressureInches='30', tempC='14', tempF='57', time='300', uvIndex='0', visibility='10', visibilityMiles='6', weatherCode='113', weatherDesc=[WeatherDesc(value='Clear ')], weatherIconUrl=[WeatherIconUrl(value='')], winddir16Point='SE', winddirDegree='144', windspeedKmph='6', windspeedMiles='4'), HourlyForecast(DewPointC='6', DewPointF='42', FeelsLikeC='12', FeelsLikeF='54', HeatIndexC='12', HeatIndexF='54', WindChillC='12', WindChillF='54', WindGustKmph='9', WindGustMiles='6', chanceoffog='0', chanceoffrost='0', chanceofhightemp='0', chanceofovercast='36', chanceofrain='0', chanceofremdry='93', chanceofsnow='0', chanceofsunshine='83', chanceofthunder='0', chanceofwindy='0', cloudcover='30', humidity='64', precipInches='0.0', precipMM='0.0', pressure='1027', pressureInches='30', tempC='12', tempF='54', time='600', uvIndex='0', visibility='10', visibilityMiles='6', weatherCode='116', weatherDesc=[WeatherDesc(value='Partly Cloudy ')], weatherIconUrl=[WeatherIconUrl(value='')], winddir16Point='SSE', winddirDegree='148', windspeedKmph='5', windspeedMiles='3'), HourlyForecast(DewPointC='5', DewPointF='40', FeelsLikeC='14', FeelsLikeF='57', HeatIndexC='15', HeatIndexF='58', WindChillC='14', WindChillF='57', WindGustKmph='11', WindGustMiles='7', chanceoffog='0', chanceoffrost='0', chanceofhightemp='0', chanceofovercast='0', chanceofrain='0', chanceofremdry='81', chanceofsnow='0', chanceofsunshine='88', chanceofthunder='0', chanceofwindy='0', cloudcover='14', humidity='52', precipInches='0.0', precipMM='0.0', pressure='1027', pressureInches='30', tempC='15', tempF='58', time='900', uvIndex='0', visibility='10', visibilityMiles='6', weatherCode='113', weatherDesc=[WeatherDesc(value='Sunny')], weatherIconUrl=[WeatherIconUrl(value='')], winddir16Point='SE', winddirDegree='138', windspeedKmph='9', windspeedMiles='6'), HourlyForecast(DewPointC='3', DewPointF='38', FeelsLikeC='18', FeelsLikeF='64', HeatIndexC='18', HeatIndexF='64', WindChillC='18', WindChillF='64', WindGustKmph='10', WindGustMiles='6', chanceoffog='0', chanceoffrost='0', chanceofhightemp='0', chanceofovercast='0', chanceofrain='0', chanceofremdry='83', chanceofsnow='0', chanceofsunshine='86', chanceofthunder='0', chanceofwindy='0', cloudcover='7', humidity='38', precipInches='0.0', precipMM='0.0', pressure='1026', pressureInches='30', tempC='18', tempF='64', time='1200', uvIndex='2', visibility='10', visibilityMiles='6', weatherCode='113', weatherDesc=[WeatherDesc(value='Sunny')], weatherIconUrl=[WeatherIconUrl(value='')], winddir16Point='SE', winddirDegree='143', windspeedKmph='8', windspeedMiles='5'), HourlyForecast(DewPointC='4', DewPointF='39', FeelsLikeC='19', FeelsLikeF='66', HeatIndexC='19', HeatIndexF='66', WindChillC='19', WindChillF='66', WindGustKmph='11', WindGustMiles='7', chanceoffog='0', chanceoffrost='0', chanceofhightemp='0', chanceofovercast='0', chanceofrain='0', chanceofremdry='82', chanceofsnow='0', chanceofsunshine='87', chanceofthunder='0', chanceofwindy='0', cloudcover='6', humidity='36', precipInches='0.0', precipMM='0.0', pressure='1024', pressureInches='30', tempC='19', tempF='66', time='1500', uvIndex='3', visibility='10', visibilityMiles='6', weatherCode='113', weatherDesc=[WeatherDesc(value='Sunny')], weatherIconUrl=[WeatherIconUrl(value='')], winddir16Point='SE', winddirDegree='136', windspeedKmph='9', windspeedMiles='6'), HourlyForecast(DewPointC='3', DewPointF='38', FeelsLikeC='17', FeelsLikeF='63', HeatIndexC='17', HeatIndexF='63', WindChillC='17', WindChillF='63', WindGustKmph='15', WindGustMiles='10', chanceoffog='0', chanceoffrost='0', chanceofhightemp='0', chanceofovercast='32', chanceofrain='0', chanceofremdry='94', chanceofsnow='0', chanceofsunshine='83', chanceofthunder='0', chanceofwindy='0', cloudcover='46', humidity='39', precipInches='0.0', precipMM='0.0', pressure='1023', pressureInches='30', tempC='17', tempF='63', time='1800', uvIndex='0', visibility='10', visibilityMiles='6', weatherCode='116', weatherDesc=[WeatherDesc(value='Partly Cloudy ')], weatherIconUrl=[WeatherIconUrl(value='')], winddir16Point='SE', winddirDegree='135', windspeedKmph='11', windspeedMiles='7'), HourlyForecast(DewPointC='3', DewPointF='37', FeelsLikeC='15', FeelsLikeF='60', HeatIndexC='15', HeatIndexF='60', WindChillC='15', WindChillF='60', WindGustKmph='15', WindGustMiles='9', chanceoffog='0', chanceoffrost='0', chanceofhightemp='0', chanceofovercast='31', chanceofrain='0', chanceofremdry='93', chanceofsnow='0', chanceofsunshine='76', chanceofthunder='0', chanceofwindy='0', cloudcover='48', humidity='43', precipInches='0.0', precipMM='0.0', pressure='1023', pressureInches='30', tempC='15', tempF='60', time='2100', uvIndex='0', visibility='10', visibilityMiles='6', weatherCode='116', weatherDesc=[WeatherDesc(value='Partly Cloudy ')], weatherIconUrl=[WeatherIconUrl(value='')], winddir16Point='SE', winddirDegree='133', windspeedKmph='10', windspeedMiles='6')], maxtempC='19', maxtempF='66', mintempC='12', mintempF='53', sunHour='11.8', totalSnow_cm='0.0', uvIndex='1'), DailyForecast(astronomy=[Astronomy(moon_illumination='79', moon_phase='Waxing Gibbous', moonrise='06:04 PM', moonset='02:46 AM', sunrise='07:53 AM', sunset='07:25 PM')], avgtempC='14', avgtempF='57', date='2025-10-03', hourly=[HourlyForecast(DewPointC='3', DewPointF='37', FeelsLikeC='14', FeelsLikeF='57', HeatIndexC='14', HeatIndexF='58', WindChillC='14', WindChillF='57', WindGustKmph='16', WindGustMiles='10', chanceoffog='0', chanceoffrost='0', chanceofhightemp='0', chanceofovercast='45', chanceofrain='0', chanceofremdry='92', chanceofsnow='0', chanceofsunshine='80', chanceofthunder='0', chanceofwindy='0', cloudcover='51', humidity='46', precipInches='0.0', precipMM='0.0', pressure='1021', pressureInches='30', tempC='14', tempF='58', time='0', uvIndex='0', visibility='10', visibilityMiles='6', weatherCode='116', weatherDesc=[WeatherDesc(value='Partly Cloudy ')], weatherIconUrl=[WeatherIconUrl(value='')], winddir16Point='SSE', winddirDegree='148', windspeedKmph='10', windspeedMiles='6'), HourlyForecast(DewPointC='3', DewPointF='37', FeelsLikeC='13', FeelsLikeF='55', HeatIndexC='13', HeatIndexF='56', WindChillC='13', WindChillF='55', WindGustKmph='12', WindGustMiles='7', chanceoffog='0', chanceoffrost='0', chanceofhightemp='0', chanceofovercast='43', chanceofrain='0', chanceofremdry='90', chanceofsnow='0', chanceofsunshine='71', chanceofthunder='0', chanceofwindy='0', cloudcover='45', humidity='49', precipInches='0.0', precipMM='0.0', pressure='1020', pressureInches='30', tempC='13', tempF='56', time='300', uvIndex='0', visibility='10', visibilityMiles='6', weatherCode='116', weatherDesc=[WeatherDesc(value='Partly Cloudy ')], weatherIconUrl=[WeatherIconUrl(value='')], winddir16Point='SSE', winddirDegree='160', windspeedKmph='8', windspeedMiles='5'), HourlyForecast(DewPointC='2', DewPointF='36', FeelsLikeC='13', FeelsLikeF='56', HeatIndexC='14', HeatIndexF='56', WindChillC='13', WindChillF='56', WindGustKmph='13', WindGustMiles='8', chanceoffog='0', chanceoffrost='0', chanceofhightemp='0', chanceofovercast='33', chanceofrain='0', chanceofremdry='86', chanceofsnow='0', chanceofsunshine='88', chanceofthunder='0', chanceofwindy='0', cloudcover='47', humidity='46', precipInches='0.0', precipMM='0.0', pressure='1018', pressureInches='30', tempC='14', tempF='56', time='600', uvIndex='0', visibility='10', visibilityMiles='6', weatherCode='116', weatherDesc=[WeatherDesc(value='Partly Cloudy ')], weatherIconUrl=[WeatherIconUrl(value='')], winddir16Point='S', winddirDegree='187', windspeedKmph='9', windspeedMiles='6'), HourlyForecast(DewPointC='3', DewPointF='38', FeelsLikeC='13', FeelsLikeF='55', HeatIndexC='14', HeatIndexF='56', WindChillC='13', WindChillF='55', WindGustKmph='15', WindGustMiles='9', chanceoffog='0', chanceoffrost='0', chanceofhightemp='0', chanceofovercast='89', chanceofrain='0', chanceofremdry='83', chanceofsnow='0', chanceofsunshine='8', chanceofthunder='0', chanceofwindy='0', cloudcover='88', humidity='50', precipInches='0.0', precipMM='0.0', pressure='1019', pressureInches='30', tempC='14', tempF='56', time='900', uvIndex='0', visibility='10', visibilityMiles='6', weatherCode='122', weatherDesc=[WeatherDesc(value='Overcast ')], weatherIconUrl=[WeatherIconUrl(value='')], winddir16Point='S', winddirDegree='177', windspeedKmph='11', windspeedMiles='7'), HourlyForecast(DewPointC='3', DewPointF='38', FeelsLikeC='14', FeelsLikeF='57', HeatIndexC='15', HeatIndexF='58', WindChillC='14', WindChillF='57', WindGustKmph='16', WindGustMiles='10', chanceoffog='0', chanceoffrost='0', chanceofhightemp='0', chanceofovercast='92', chanceofrain='100', chanceofremdry='0', chanceofsnow='0', chanceofsunshine='0', chanceofthunder='0', chanceofwindy='0', cloudcover='89', humidity='47', precipInches='0.0', precipMM='0.1', pressure='1018', pressureInches='30', tempC='15', tempF='58', time='1200', uvIndex='0', visibility='10', visibilityMiles='6', weatherCode='176', weatherDesc=[WeatherDesc(value='Patchy rain nearby')], weatherIconUrl=[WeatherIconUrl(value='')], winddir16Point='S', winddirDegree='191', windspeedKmph='13', windspeedMiles='8'), HourlyForecast(DewPointC='8', DewPointF='46', FeelsLikeC='14', FeelsLikeF='57', HeatIndexC='15', HeatIndexF='58', WindChillC='14', WindChillF='57', WindGustKmph='16', WindGustMiles='10', chanceoffog='0', chanceoffrost='0', chanceofhightemp='0', chanceofovercast='92', chanceofrain='100', chanceofremdry='0', chanceofsnow='0', chanceofsunshine='0', chanceofthunder='0', chanceofwindy='0', cloudcover='100', humidity='64', precipInches='0.0', precipMM='0.1', pressure='1017', pressureInches='30', tempC='15', tempF='58', time='1500', uvIndex='0', visibility='10', visibilityMiles='6', weatherCode='176', weatherDesc=[WeatherDesc(value='Patchy rain nearby')], weatherIconUrl=[WeatherIconUrl(value='')], winddir16Point='SSW', winddirDegree='211', windspeedKmph='12', windspeedMiles='8'), HourlyForecast(DewPointC='9', DewPointF='49', FeelsLikeC='14', FeelsLikeF='57', HeatIndexC='14', HeatIndexF='58', WindChillC='14', WindChillF='57', WindGustKmph='14', WindGustMiles='9', chanceoffog='0', chanceoffrost='0', chanceofhightemp='0', chanceofovercast='82', chanceofrain='100', chanceofremdry='0', chanceofsnow='0', chanceofsunshine='0', chanceofthunder='0', chanceofwindy='0', cloudcover='100', humidity='73', precipInches='0.0', precipMM='0.1', pressure='1017', pressureInches='30', tempC='14', tempF='58', time='1800', uvIndex='0', visibility='10', visibilityMiles='6', weatherCode='176', weatherDesc=[WeatherDesc(value='Patchy rain nearby')], weatherIconUrl=[WeatherIconUrl(value='')], winddir16Point='SSW', winddirDegree='201', windspeedKmph='10', windspeedMiles='6'), HourlyForecast(DewPointC='12', DewPointF='53', FeelsLikeC='13', FeelsLikeF='56', HeatIndexC='14', HeatIndexF='57', WindChillC='13', WindChillF='56', WindGustKmph='14', WindGustMiles='8', chanceoffog='0', chanceoffrost='0', chanceofhightemp='0', chanceofovercast='83', chanceofrain='100', chanceofremdry='0', chanceofsnow='0', chanceofsunshine='0', chanceofthunder='0', chanceofwindy='0', cloudcover='100', humidity='88', precipInches='0.0', precipMM='0.3', pressure='1018', pressureInches='30', tempC='14', tempF='57', time='2100', uvIndex='0', visibility='2', visibilityMiles='1', weatherCode='266', weatherDesc=[WeatherDesc(value='Light drizzle')], weatherIconUrl=[WeatherIconUrl(value='')], winddir16Point='S', winddirDegree='176', windspeedKmph='9', windspeedMiles='6')], maxtempC='15', maxtempF='58', mintempC='13', mintempF='56', sunHour='9.0', totalSnow_cm='0.0', uvIndex='0')] metadata=ResponseMetadata(is_real_data=True, is_cached=True, is_mock=False, status_code=None, error_type=None, error_message=None, url='http://wttr.in/Paris?m&format=j1', timestamp=1759338985.5460033)\n",
            "current_condition=[CurrentCondition(FeelsLikeC='20', FeelsLikeF='68', cloudcover='25', humidity='46', localObsDateTime='2025-10-01 04:01 PM', observation_time='02:01 PM', precipInches='0.0', precipMM='0.0', pressure='1027', pressureInches='30', temp_C='20', temp_F='68', uvIndex='2', visibility='10', visibilityMiles='6', weatherCode='116', weatherDesc=[WeatherDesc(value='Partly cloudy')], weatherIconUrl=[WeatherIconUrl(value='')], winddir16Point='NNE', winddirDegree='29', windspeedKmph='7', windspeedMiles='4')] nearest_area=[NearestArea(areaName=[AreaName(value='Paris')], country=[Country(value='France')], latitude='48.867', longitude='2.333', population='2110694', region=[Region(value='Ile-de-France')], weatherUrl=[WeatherIconUrl(value='')])] request=[Request(query='Lat 48.86 and Lon 2.35', type='LatLon')] weather=[DailyForecast(astronomy=[Astronomy(moon_illumination='60', moon_phase='Waxing Gibbous', moonrise='05:18 PM', moonset='12:13 AM', sunrise='07:51 AM', sunset='07:30 PM')], avgtempC='15', avgtempF='60', date='2025-10-01', hourly=[HourlyForecast(DewPointC='4', DewPointF='40', FeelsLikeC='13', FeelsLikeF='55', HeatIndexC='13', HeatIndexF='56', WindChillC='13', WindChillF='55', WindGustKmph='13', WindGustMiles='8', chanceoffog='0', chanceoffrost='0', chanceofhightemp='0', chanceofovercast='0', chanceofrain='0', chanceofremdry='91', chanceofsnow='0', chanceofsunshine='86', chanceofthunder='0', chanceofwindy='0', cloudcover='3', humidity='55', precipInches='0.0', precipMM='0.0', pressure='1027', pressureInches='30', tempC='13', tempF='56', time='0', uvIndex='0', visibility='10', visibilityMiles='6', weatherCode='113', weatherDesc=[WeatherDesc(value='Clear ')], weatherIconUrl=[WeatherIconUrl(value='')], winddir16Point='N', winddirDegree='6', windspeedKmph='7', windspeedMiles='4'), HourlyForecast(DewPointC='6', DewPointF='43', FeelsLikeC='11', FeelsLikeF='52', HeatIndexC='12', HeatIndexF='53', WindChillC='11', WindChillF='52', WindGustKmph='12', WindGustMiles='8', chanceoffog='0', chanceoffrost='0', chanceofhightemp='0', chanceofovercast='0', chanceofrain='0', chanceofremdry='82', chanceofsnow='0', chanceofsunshine='88', chanceofthunder='0', chanceofwindy='0', cloudcover='3', humidity='68', precipInches='0.0', precipMM='0.0', pressure='1027', pressureInches='30', tempC='12', tempF='53', time='300', uvIndex='0', visibility='10', visibilityMiles='6', weatherCode='113', weatherDesc=[WeatherDesc(value='Clear ')], weatherIconUrl=[WeatherIconUrl(value='')], winddir16Point='NNE', winddirDegree='18', windspeedKmph='7', windspeedMiles='4'), HourlyForecast(DewPointC='8', DewPointF='46', FeelsLikeC='10', FeelsLikeF='51', HeatIndexC='11', HeatIndexF='51', WindChillC='10', WindChillF='51', WindGustKmph='11', WindGustMiles='7', chanceoffog='0', chanceoffrost='0', chanceofhightemp='0', chanceofovercast='0', chanceofrain='0', chanceofremdry='90', chanceofsnow='0', chanceofsunshine='85', chanceofthunder='0', chanceofwindy='0', cloudcover='4', humidity='80', precipInches='0.0', precipMM='0.0', pressure='1027', pressureInches='30', tempC='11', tempF='51', time='600', uvIndex='0', visibility='10', visibilityMiles='6', weatherCode='113', weatherDesc=[WeatherDesc(value='Clear ')], weatherIconUrl=[WeatherIconUrl(value='')], winddir16Point='NNE', winddirDegree='23', windspeedKmph='6', windspeedMiles='4'), HourlyForecast(DewPointC='8', DewPointF='47', FeelsLikeC='13', FeelsLikeF='56', HeatIndexC='14', HeatIndexF='56', WindChillC='13', WindChillF='56', WindGustKmph='9', WindGustMiles='5', chanceoffog='0', chanceoffrost='0', chanceofhightemp='0', chanceofovercast='0', chanceofrain='0', chanceofremdry='90', chanceofsnow='0', chanceofsunshine='93', chanceofthunder='0', chanceofwindy='0', cloudcover='4', humidity='71', precipInches='0.0', precipMM='0.0', pressure='1028', pressureInches='30', tempC='14', tempF='56', time='900', uvIndex='0', visibility='10', visibilityMiles='6', weatherCode='113', weatherDesc=[WeatherDesc(value='Sunny')], weatherIconUrl=[WeatherIconUrl(value='')], winddir16Point='NNE', winddirDegree='34', windspeedKmph='7', windspeedMiles='4'), HourlyForecast(DewPointC='7', DewPointF='45', FeelsLikeC='18', FeelsLikeF='65', HeatIndexC='18', HeatIndexF='65', WindChillC='18', WindChillF='65', WindGustKmph='8', WindGustMiles='5', chanceoffog='0', chanceoffrost='0', chanceofhightemp='0', chanceofovercast='0', chanceofrain='0', chanceofremdry='84', chanceofsnow='0', chanceofsunshine='86', chanceofthunder='0', chanceofwindy='0', cloudcover='6', humidity='49', precipInches='0.0', precipMM='0.0', pressure='1028', pressureInches='30', tempC='18', tempF='65', time='1200', uvIndex='3', visibility='10', visibilityMiles='6', weatherCode='113', weatherDesc=[WeatherDesc(value='Sunny')], weatherIconUrl=[WeatherIconUrl(value='')], winddir16Point='NE', winddirDegree='38', windspeedKmph='7', windspeedMiles='4'), HourlyForecast(DewPointC='5', DewPointF='42', FeelsLikeC='20', FeelsLikeF='68', HeatIndexC='20', HeatIndexF='68', WindChillC='20', WindChillF='68', WindGustKmph='7', WindGustMiles='5', chanceoffog='0', chanceoffrost='0', chanceofhightemp='0', chanceofovercast='0', chanceofrain='0', chanceofremdry='91', chanceofsnow='0', chanceofsunshine='92', chanceofthunder='0', chanceofwindy='0', cloudcover='15', humidity='38', precipInches='0.0', precipMM='0.0', pressure='1027', pressureInches='30', tempC='20', tempF='68', time='1500', uvIndex='3', visibility='10', visibilityMiles='6', weatherCode='113', weatherDesc=[WeatherDesc(value='Sunny')], weatherIconUrl=[WeatherIconUrl(value='')], winddir16Point='NNE', winddirDegree='28', windspeedKmph='6', windspeedMiles='4'), HourlyForecast(DewPointC='5', DewPointF='41', FeelsLikeC='19', FeelsLikeF='66', HeatIndexC='19', HeatIndexF='66', WindChillC='19', WindChillF='66', WindGustKmph='10', WindGustMiles='6', chanceoffog='0', chanceoffrost='0', chanceofhightemp='0', chanceofovercast='30', chanceofrain='0', chanceofremdry='84', chanceofsnow='0', chanceofsunshine='84', chanceofthunder='0', chanceofwindy='0', cloudcover='51', humidity='41', precipInches='0.0', precipMM='0.0', pressure='1027', pressureInches='30', tempC='19', tempF='66', time='1800', uvIndex='0', visibility='10', visibilityMiles='6', weatherCode='116', weatherDesc=[WeatherDesc(value='Partly Cloudy ')], weatherIconUrl=[WeatherIconUrl(value='')], winddir16Point='NE', winddirDegree='42', windspeedKmph='7', windspeedMiles='4'), HourlyForecast(DewPointC='7', DewPointF='44', FeelsLikeC='16', FeelsLikeF='61', HeatIndexC='16', HeatIndexF='61', WindChillC='16', WindChillF='61', WindGustKmph='12', WindGustMiles='7', chanceoffog='0', chanceoffrost='0', chanceofhightemp='0', chanceofovercast='31', chanceofrain='0', chanceofremdry='84', chanceofsnow='0', chanceofsunshine='86', chanceofthunder='0', chanceofwindy='0', cloudcover='35', humidity='52', precipInches='0.0', precipMM='0.0', pressure='1027', pressureInches='30', tempC='16', tempF='61', time='2100', uvIndex='0', visibility='10', visibilityMiles='6', weatherCode='116', weatherDesc=[WeatherDesc(value='Partly Cloudy ')], weatherIconUrl=[WeatherIconUrl(value='')], winddir16Point='ESE', winddirDegree='111', windspeedKmph='7', windspeedMiles='4')], maxtempC='20', maxtempF='68', mintempC='11', mintempF='51', sunHour='11.8', totalSnow_cm='0.0', uvIndex='1'), DailyForecast(astronomy=[Astronomy(moon_illumination='70', moon_phase='Waxing Gibbous', moonrise='05:44 PM', moonset='01:27 AM', sunrise='07:52 AM', sunset='07:27 PM')], avgtempC='16', avgtempF='60', date='2025-10-02', hourly=[HourlyForecast(DewPointC='7', DewPointF='45', FeelsLikeC='16', FeelsLikeF='60', HeatIndexC='16', HeatIndexF='60', WindChillC='16', WindChillF='60', WindGustKmph='11', WindGustMiles='7', chanceoffog='0', chanceoffrost='0', chanceofhightemp='0', chanceofovercast='45', chanceofrain='0', chanceofremdry='90', chanceofsnow='0', chanceofsunshine='82', chanceofthunder='0', chanceofwindy='0', cloudcover='58', humidity='57', precipInches='0.0', precipMM='0.0', pressure='1027', pressureInches='30', tempC='16', tempF='60', time='0', uvIndex='0', visibility='10', visibilityMiles='6', weatherCode='116', weatherDesc=[WeatherDesc(value='Partly Cloudy ')], weatherIconUrl=[WeatherIconUrl(value='')], winddir16Point='SSE', winddirDegree='151', windspeedKmph='7', windspeedMiles='4'), HourlyForecast(DewPointC='7', DewPointF='44', FeelsLikeC='14', FeelsLikeF='57', HeatIndexC='14', HeatIndexF='57', WindChillC='14', WindChillF='57', WindGustKmph='10', WindGustMiles='6', chanceoffog='0', chanceoffrost='0', chanceofhightemp='0', chanceofovercast='0', chanceofrain='0', chanceofremdry='85', chanceofsnow='0', chanceofsunshine='94', chanceofthunder='0', chanceofwindy='0', cloudcover='13', humidity='62', precipInches='0.0', precipMM='0.0', pressure='1027', pressureInches='30', tempC='14', tempF='57', time='300', uvIndex='0', visibility='10', visibilityMiles='6', weatherCode='113', weatherDesc=[WeatherDesc(value='Clear ')], weatherIconUrl=[WeatherIconUrl(value='')], winddir16Point='SE', winddirDegree='144', windspeedKmph='6', windspeedMiles='4'), HourlyForecast(DewPointC='6', DewPointF='42', FeelsLikeC='12', FeelsLikeF='54', HeatIndexC='12', HeatIndexF='54', WindChillC='12', WindChillF='54', WindGustKmph='9', WindGustMiles='6', chanceoffog='0', chanceoffrost='0', chanceofhightemp='0', chanceofovercast='36', chanceofrain='0', chanceofremdry='93', chanceofsnow='0', chanceofsunshine='83', chanceofthunder='0', chanceofwindy='0', cloudcover='30', humidity='64', precipInches='0.0', precipMM='0.0', pressure='1027', pressureInches='30', tempC='12', tempF='54', time='600', uvIndex='0', visibility='10', visibilityMiles='6', weatherCode='116', weatherDesc=[WeatherDesc(value='Partly Cloudy ')], weatherIconUrl=[WeatherIconUrl(value='')], winddir16Point='SSE', winddirDegree='148', windspeedKmph='5', windspeedMiles='3'), HourlyForecast(DewPointC='5', DewPointF='40', FeelsLikeC='14', FeelsLikeF='57', HeatIndexC='15', HeatIndexF='58', WindChillC='14', WindChillF='57', WindGustKmph='11', WindGustMiles='7', chanceoffog='0', chanceoffrost='0', chanceofhightemp='0', chanceofovercast='0', chanceofrain='0', chanceofremdry='81', chanceofsnow='0', chanceofsunshine='88', chanceofthunder='0', chanceofwindy='0', cloudcover='14', humidity='52', precipInches='0.0', precipMM='0.0', pressure='1027', pressureInches='30', tempC='15', tempF='58', time='900', uvIndex='0', visibility='10', visibilityMiles='6', weatherCode='113', weatherDesc=[WeatherDesc(value='Sunny')], weatherIconUrl=[WeatherIconUrl(value='')], winddir16Point='SE', winddirDegree='138', windspeedKmph='9', windspeedMiles='6'), HourlyForecast(DewPointC='3', DewPointF='38', FeelsLikeC='18', FeelsLikeF='64', HeatIndexC='18', HeatIndexF='64', WindChillC='18', WindChillF='64', WindGustKmph='10', WindGustMiles='6', chanceoffog='0', chanceoffrost='0', chanceofhightemp='0', chanceofovercast='0', chanceofrain='0', chanceofremdry='83', chanceofsnow='0', chanceofsunshine='86', chanceofthunder='0', chanceofwindy='0', cloudcover='7', humidity='38', precipInches='0.0', precipMM='0.0', pressure='1026', pressureInches='30', tempC='18', tempF='64', time='1200', uvIndex='2', visibility='10', visibilityMiles='6', weatherCode='113', weatherDesc=[WeatherDesc(value='Sunny')], weatherIconUrl=[WeatherIconUrl(value='')], winddir16Point='SE', winddirDegree='143', windspeedKmph='8', windspeedMiles='5'), HourlyForecast(DewPointC='4', DewPointF='39', FeelsLikeC='19', FeelsLikeF='66', HeatIndexC='19', HeatIndexF='66', WindChillC='19', WindChillF='66', WindGustKmph='11', WindGustMiles='7', chanceoffog='0', chanceoffrost='0', chanceofhightemp='0', chanceofovercast='0', chanceofrain='0', chanceofremdry='82', chanceofsnow='0', chanceofsunshine='87', chanceofthunder='0', chanceofwindy='0', cloudcover='6', humidity='36', precipInches='0.0', precipMM='0.0', pressure='1024', pressureInches='30', tempC='19', tempF='66', time='1500', uvIndex='3', visibility='10', visibilityMiles='6', weatherCode='113', weatherDesc=[WeatherDesc(value='Sunny')], weatherIconUrl=[WeatherIconUrl(value='')], winddir16Point='SE', winddirDegree='136', windspeedKmph='9', windspeedMiles='6'), HourlyForecast(DewPointC='3', DewPointF='38', FeelsLikeC='17', FeelsLikeF='63', HeatIndexC='17', HeatIndexF='63', WindChillC='17', WindChillF='63', WindGustKmph='15', WindGustMiles='10', chanceoffog='0', chanceoffrost='0', chanceofhightemp='0', chanceofovercast='32', chanceofrain='0', chanceofremdry='94', chanceofsnow='0', chanceofsunshine='83', chanceofthunder='0', chanceofwindy='0', cloudcover='46', humidity='39', precipInches='0.0', precipMM='0.0', pressure='1023', pressureInches='30', tempC='17', tempF='63', time='1800', uvIndex='0', visibility='10', visibilityMiles='6', weatherCode='116', weatherDesc=[WeatherDesc(value='Partly Cloudy ')], weatherIconUrl=[WeatherIconUrl(value='')], winddir16Point='SE', winddirDegree='135', windspeedKmph='11', windspeedMiles='7'), HourlyForecast(DewPointC='3', DewPointF='37', FeelsLikeC='15', FeelsLikeF='60', HeatIndexC='15', HeatIndexF='60', WindChillC='15', WindChillF='60', WindGustKmph='15', WindGustMiles='9', chanceoffog='0', chanceoffrost='0', chanceofhightemp='0', chanceofovercast='31', chanceofrain='0', chanceofremdry='93', chanceofsnow='0', chanceofsunshine='76', chanceofthunder='0', chanceofwindy='0', cloudcover='48', humidity='43', precipInches='0.0', precipMM='0.0', pressure='1023', pressureInches='30', tempC='15', tempF='60', time='2100', uvIndex='0', visibility='10', visibilityMiles='6', weatherCode='116', weatherDesc=[WeatherDesc(value='Partly Cloudy ')], weatherIconUrl=[WeatherIconUrl(value='')], winddir16Point='SE', winddirDegree='133', windspeedKmph='10', windspeedMiles='6')], maxtempC='19', maxtempF='66', mintempC='12', mintempF='53', sunHour='11.8', totalSnow_cm='0.0', uvIndex='1'), DailyForecast(astronomy=[Astronomy(moon_illumination='79', moon_phase='Waxing Gibbous', moonrise='06:04 PM', moonset='02:46 AM', sunrise='07:53 AM', sunset='07:25 PM')], avgtempC='14', avgtempF='57', date='2025-10-03', hourly=[HourlyForecast(DewPointC='3', DewPointF='37', FeelsLikeC='14', FeelsLikeF='57', HeatIndexC='14', HeatIndexF='58', WindChillC='14', WindChillF='57', WindGustKmph='16', WindGustMiles='10', chanceoffog='0', chanceoffrost='0', chanceofhightemp='0', chanceofovercast='45', chanceofrain='0', chanceofremdry='92', chanceofsnow='0', chanceofsunshine='80', chanceofthunder='0', chanceofwindy='0', cloudcover='51', humidity='46', precipInches='0.0', precipMM='0.0', pressure='1021', pressureInches='30', tempC='14', tempF='58', time='0', uvIndex='0', visibility='10', visibilityMiles='6', weatherCode='116', weatherDesc=[WeatherDesc(value='Partly Cloudy ')], weatherIconUrl=[WeatherIconUrl(value='')], winddir16Point='SSE', winddirDegree='148', windspeedKmph='10', windspeedMiles='6'), HourlyForecast(DewPointC='3', DewPointF='37', FeelsLikeC='13', FeelsLikeF='55', HeatIndexC='13', HeatIndexF='56', WindChillC='13', WindChillF='55', WindGustKmph='12', WindGustMiles='7', chanceoffog='0', chanceoffrost='0', chanceofhightemp='0', chanceofovercast='43', chanceofrain='0', chanceofremdry='90', chanceofsnow='0', chanceofsunshine='71', chanceofthunder='0', chanceofwindy='0', cloudcover='45', humidity='49', precipInches='0.0', precipMM='0.0', pressure='1020', pressureInches='30', tempC='13', tempF='56', time='300', uvIndex='0', visibility='10', visibilityMiles='6', weatherCode='116', weatherDesc=[WeatherDesc(value='Partly Cloudy ')], weatherIconUrl=[WeatherIconUrl(value='')], winddir16Point='SSE', winddirDegree='160', windspeedKmph='8', windspeedMiles='5'), HourlyForecast(DewPointC='2', DewPointF='36', FeelsLikeC='13', FeelsLikeF='56', HeatIndexC='14', HeatIndexF='56', WindChillC='13', WindChillF='56', WindGustKmph='13', WindGustMiles='8', chanceoffog='0', chanceoffrost='0', chanceofhightemp='0', chanceofovercast='33', chanceofrain='0', chanceofremdry='86', chanceofsnow='0', chanceofsunshine='88', chanceofthunder='0', chanceofwindy='0', cloudcover='47', humidity='46', precipInches='0.0', precipMM='0.0', pressure='1018', pressureInches='30', tempC='14', tempF='56', time='600', uvIndex='0', visibility='10', visibilityMiles='6', weatherCode='116', weatherDesc=[WeatherDesc(value='Partly Cloudy ')], weatherIconUrl=[WeatherIconUrl(value='')], winddir16Point='S', winddirDegree='187', windspeedKmph='9', windspeedMiles='6'), HourlyForecast(DewPointC='3', DewPointF='38', FeelsLikeC='13', FeelsLikeF='55', HeatIndexC='14', HeatIndexF='56', WindChillC='13', WindChillF='55', WindGustKmph='15', WindGustMiles='9', chanceoffog='0', chanceoffrost='0', chanceofhightemp='0', chanceofovercast='89', chanceofrain='0', chanceofremdry='83', chanceofsnow='0', chanceofsunshine='8', chanceofthunder='0', chanceofwindy='0', cloudcover='88', humidity='50', precipInches='0.0', precipMM='0.0', pressure='1019', pressureInches='30', tempC='14', tempF='56', time='900', uvIndex='0', visibility='10', visibilityMiles='6', weatherCode='122', weatherDesc=[WeatherDesc(value='Overcast ')], weatherIconUrl=[WeatherIconUrl(value='')], winddir16Point='S', winddirDegree='177', windspeedKmph='11', windspeedMiles='7'), HourlyForecast(DewPointC='3', DewPointF='38', FeelsLikeC='14', FeelsLikeF='57', HeatIndexC='15', HeatIndexF='58', WindChillC='14', WindChillF='57', WindGustKmph='16', WindGustMiles='10', chanceoffog='0', chanceoffrost='0', chanceofhightemp='0', chanceofovercast='92', chanceofrain='100', chanceofremdry='0', chanceofsnow='0', chanceofsunshine='0', chanceofthunder='0', chanceofwindy='0', cloudcover='89', humidity='47', precipInches='0.0', precipMM='0.1', pressure='1018', pressureInches='30', tempC='15', tempF='58', time='1200', uvIndex='0', visibility='10', visibilityMiles='6', weatherCode='176', weatherDesc=[WeatherDesc(value='Patchy rain nearby')], weatherIconUrl=[WeatherIconUrl(value='')], winddir16Point='S', winddirDegree='191', windspeedKmph='13', windspeedMiles='8'), HourlyForecast(DewPointC='8', DewPointF='46', FeelsLikeC='14', FeelsLikeF='57', HeatIndexC='15', HeatIndexF='58', WindChillC='14', WindChillF='57', WindGustKmph='16', WindGustMiles='10', chanceoffog='0', chanceoffrost='0', chanceofhightemp='0', chanceofovercast='92', chanceofrain='100', chanceofremdry='0', chanceofsnow='0', chanceofsunshine='0', chanceofthunder='0', chanceofwindy='0', cloudcover='100', humidity='64', precipInches='0.0', precipMM='0.1', pressure='1017', pressureInches='30', tempC='15', tempF='58', time='1500', uvIndex='0', visibility='10', visibilityMiles='6', weatherCode='176', weatherDesc=[WeatherDesc(value='Patchy rain nearby')], weatherIconUrl=[WeatherIconUrl(value='')], winddir16Point='SSW', winddirDegree='211', windspeedKmph='12', windspeedMiles='8'), HourlyForecast(DewPointC='9', DewPointF='49', FeelsLikeC='14', FeelsLikeF='57', HeatIndexC='14', HeatIndexF='58', WindChillC='14', WindChillF='57', WindGustKmph='14', WindGustMiles='9', chanceoffog='0', chanceoffrost='0', chanceofhightemp='0', chanceofovercast='82', chanceofrain='100', chanceofremdry='0', chanceofsnow='0', chanceofsunshine='0', chanceofthunder='0', chanceofwindy='0', cloudcover='100', humidity='73', precipInches='0.0', precipMM='0.1', pressure='1017', pressureInches='30', tempC='14', tempF='58', time='1800', uvIndex='0', visibility='10', visibilityMiles='6', weatherCode='176', weatherDesc=[WeatherDesc(value='Patchy rain nearby')], weatherIconUrl=[WeatherIconUrl(value='')], winddir16Point='SSW', winddirDegree='201', windspeedKmph='10', windspeedMiles='6'), HourlyForecast(DewPointC='12', DewPointF='53', FeelsLikeC='13', FeelsLikeF='56', HeatIndexC='14', HeatIndexF='57', WindChillC='13', WindChillF='56', WindGustKmph='14', WindGustMiles='8', chanceoffog='0', chanceoffrost='0', chanceofhightemp='0', chanceofovercast='83', chanceofrain='100', chanceofremdry='0', chanceofsnow='0', chanceofsunshine='0', chanceofthunder='0', chanceofwindy='0', cloudcover='100', humidity='88', precipInches='0.0', precipMM='0.3', pressure='1018', pressureInches='30', tempC='14', tempF='57', time='2100', uvIndex='0', visibility='2', visibilityMiles='1', weatherCode='266', weatherDesc=[WeatherDesc(value='Light drizzle')], weatherIconUrl=[WeatherIconUrl(value='')], winddir16Point='S', winddirDegree='176', windspeedKmph='9', windspeedMiles='6')], maxtempC='15', maxtempF='58', mintempC='13', mintempF='56', sunHour='9.0', totalSnow_cm='0.0', uvIndex='0')] metadata=ResponseMetadata(is_real_data=True, is_cached=False, is_mock=False, status_code=200, error_type=None, error_message=None, url='http://wttr.in/Paris?format=j1', timestamp=1759338986.1352255)\n",
            "current_condition=[CurrentCondition(FeelsLikeC='11', FeelsLikeF='51', cloudcover='100', humidity='71', localObsDateTime='2025-10-01 03:57 PM', observation_time='01:57 PM', precipInches='0.0', precipMM='0.0', pressure='1032', pressureInches='30', temp_C='12', temp_F='54', uvIndex='1', visibility='10', visibilityMiles='6', weatherCode='122', weatherDesc=[WeatherDesc(value='Overcast')], weatherIconUrl=[WeatherIconUrl(value='')], winddir16Point='ENE', winddirDegree='78', windspeedKmph='14', windspeedMiles='9')] nearest_area=[NearestArea(areaName=[AreaName(value='Friedrichshain')], country=[Country(value='Germany')], latitude='52.533', longitude='13.433', population='117829', region=[Region(value='Berlin')], weatherUrl=[WeatherIconUrl(value='')])] request=[Request(query='Lat 52.52 and Lon 13.41', type='LatLon')] weather=[DailyForecast(astronomy=[Astronomy(moon_illumination='60', moon_phase='Waxing Gibbous', moonrise='04:54 PM', moonset='No moonset', sunrise='07:08 AM', sunset='06:43 PM')], avgtempC='11', avgtempF='52', date='2025-10-01', hourly=[HourlyForecast(DewPointC='5', DewPointF='42', FeelsLikeC='8', FeelsLikeF='46', HeatIndexC='10', HeatIndexF='49', WindChillC='8', WindChillF='46', WindGustKmph='16', WindGustMiles='10', chanceoffog='0', chanceoffrost='0', chanceofhightemp='0', chanceofovercast='85', chanceofrain='62', chanceofremdry='0', chanceofsnow='0', chanceofsunshine='0', chanceofthunder='0', chanceofwindy='0', cloudcover='62', humidity='75', precipInches='0.0', precipMM='0.0', pressure='1031', pressureInches='30', tempC='10', tempF='49', time='0', uvIndex='0', visibility='10', visibilityMiles='6', weatherCode='176', weatherDesc=[WeatherDesc(value='Patchy rain nearby')], weatherIconUrl=[WeatherIconUrl(value='')], winddir16Point='E', winddirDegree='89', windspeedKmph='11', windspeedMiles='7'), HourlyForecast(DewPointC='5', DewPointF='41', FeelsLikeC='7', FeelsLikeF='44', HeatIndexC='8', HeatIndexF='47', WindChillC='7', WindChillF='44', WindGustKmph='15', WindGustMiles='9', chanceoffog='0', chanceoffrost='0', chanceofhightemp='0', chanceofovercast='48', chanceofrain='0', chanceofremdry='92', chanceofsnow='0', chanceofsunshine='82', chanceofthunder='0', chanceofwindy='0', cloudcover='53', humidity='79', precipInches='0.0', precipMM='0.0', pressure='1031', pressureInches='30', tempC='8', tempF='47', time='300', uvIndex='0', visibility='10', visibilityMiles='6', weatherCode='116', weatherDesc=[WeatherDesc(value='Partly Cloudy ')], weatherIconUrl=[WeatherIconUrl(value='')], winddir16Point='E', winddirDegree='79', windspeedKmph='9', windspeedMiles='6'), HourlyForecast(DewPointC='6', DewPointF='42', FeelsLikeC='8', FeelsLikeF='46', HeatIndexC='9', HeatIndexF='49', WindChillC='8', WindChillF='46', WindGustKmph='16', WindGustMiles='10', chanceoffog='0', chanceoffrost='0', chanceofhightemp='0', chanceofovercast='94', chanceofrain='78', chanceofremdry='0', chanceofsnow='0', chanceofsunshine='0', chanceofthunder='0', chanceofwindy='0', cloudcover='69', humidity='79', precipInches='0.0', precipMM='0.0', pressure='1031', pressureInches='30', tempC='9', tempF='49', time='600', uvIndex='0', visibility='10', visibilityMiles='6', weatherCode='176', weatherDesc=[WeatherDesc(value='Patchy rain nearby')], weatherIconUrl=[WeatherIconUrl(value='')], winddir16Point='ENE', winddirDegree='72', windspeedKmph='11', windspeedMiles='7'), HourlyForecast(DewPointC='5', DewPointF='41', FeelsLikeC='9', FeelsLikeF='48', HeatIndexC='10', HeatIndexF='51', WindChillC='9', WindChillF='48', WindGustKmph='16', WindGustMiles='10', chanceoffog='0', chanceoffrost='0', chanceofhightemp='0', chanceofovercast='85', chanceofrain='0', chanceofremdry='93', chanceofsnow='0', chanceofsunshine='6', chanceofthunder='0', chanceofwindy='0', cloudcover='79', humidity='69', precipInches='0.0', precipMM='0.0', pressure='1032', pressureInches='30', tempC='10', tempF='51', time='900', uvIndex='0', visibility='10', visibilityMiles='6', weatherCode='119', weatherDesc=[WeatherDesc(value='Cloudy ')], weatherIconUrl=[WeatherIconUrl(value='')], winddir16Point='E', winddirDegree='84', windspeedKmph='12', windspeedMiles='8'), HourlyForecast(DewPointC='4', DewPointF='40', FeelsLikeC='13', FeelsLikeF='55', HeatIndexC='14', HeatIndexF='57', WindChillC='13', WindChillF='55', WindGustKmph='13', WindGustMiles='8', chanceoffog='0', chanceoffrost='0', chanceofhightemp='0', chanceofovercast='84', chanceofrain='100', chanceofremdry='0', chanceofsnow='0', chanceofsunshine='0', chanceofthunder='0', chanceofwindy='0', cloudcover='67', humidity='52', precipInches='0.0', precipMM='0.1', pressure='1032', pressureInches='30', tempC='14', tempF='57', time='1200', uvIndex='2', visibility='10', visibilityMiles='6', weatherCode='176', weatherDesc=[WeatherDesc(value='Patchy rain nearby')], weatherIconUrl=[WeatherIconUrl(value='')], winddir16Point='ESE', winddirDegree='107', windspeedKmph='12', windspeedMiles='7'), HourlyForecast(DewPointC='3', DewPointF='38', FeelsLikeC='13', FeelsLikeF='56', HeatIndexC='14', HeatIndexF='57', WindChillC='13', WindChillF='56', WindGustKmph='18', WindGustMiles='11', chanceoffog='0', chanceoffrost='0', chanceofhightemp='0', chanceofovercast='83', chanceofrain='64', chanceofremdry='0', chanceofsnow='0', chanceofsunshine='0', chanceofthunder='0', chanceofwindy='0', cloudcover='100', humidity='71', precipInches='0.0', precipMM='0.0', pressure='1032', pressureInches='30', tempC='12', tempF='54', time='1500', uvIndex='1', visibility='10', visibilityMiles='6', weatherCode='122', weatherDesc=[WeatherDesc(value='Overcast')], weatherIconUrl=[WeatherIconUrl(value='')], winddir16Point='ENE', winddirDegree='78', windspeedKmph='14', windspeedMiles='9'), HourlyForecast(DewPointC='4', DewPointF='39', FeelsLikeC='10', FeelsLikeF='51', HeatIndexC='11', HeatIndexF='53', WindChillC='10', WindChillF='51', WindGustKmph='17', WindGustMiles='11', chanceoffog='0', chanceoffrost='0', chanceofhightemp='0', chanceofovercast='32', chanceofrain='0', chanceofremdry='90', chanceofsnow='0', chanceofsunshine='80', chanceofthunder='0', chanceofwindy='0', cloudcover='61', humidity='60', precipInches='0.0', precipMM='0.0', pressure='1032', pressureInches='30', tempC='11', tempF='53', time='1800', uvIndex='0', visibility='10', visibilityMiles='6', weatherCode='116', weatherDesc=[WeatherDesc(value='Partly Cloudy ')], weatherIconUrl=[WeatherIconUrl(value='')], winddir16Point='E', winddirDegree='82', windspeedKmph='10', windspeedMiles='6'), HourlyForecast(DewPointC='4', DewPointF='38', FeelsLikeC='9', FeelsLikeF='48', HeatIndexC='10', HeatIndexF='50', WindChillC='9', WindChillF='48', WindGustKmph='12', WindGustMiles='8', chanceoffog='0', chanceoffrost='0', chanceofhightemp='0', chanceofovercast='34', chanceofrain='0', chanceofremdry='93', chanceofsnow='0', chanceofsunshine='76', chanceofthunder='0', chanceofwindy='0', cloudcover='59', humidity='65', precipInches='0.0', precipMM='0.0', pressure='1033', pressureInches='30', tempC='10', tempF='50', time='2100', uvIndex='0', visibility='10', visibilityMiles='6', weatherCode='116', weatherDesc=[WeatherDesc(value='Partly Cloudy ')], weatherIconUrl=[WeatherIconUrl(value='')], winddir16Point='ESE', winddirDegree='107', windspeedKmph='7', windspeedMiles='4')], maxtempC='14', maxtempF='58', mintempC='8', mintempF='47', sunHour='9.0', totalSnow_cm='0.0', uvIndex='0'), DailyForecast(astronomy=[Astronomy(moon_illumination='70', moon_phase='Waxing Gibbous', moonrise='05:15 PM', moonset='12:20 AM', sunrise='07:09 AM', sunset='06:41 PM')], avgtempC='12', avgtempF='53', date='2025-10-02', hourly=[HourlyForecast(DewPointC='4', DewPointF='38', FeelsLikeC='10', FeelsLikeF='50', HeatIndexC='10', HeatIndexF='50', WindChillC='10', WindChillF='50', WindGustKmph='4', WindGustMiles='3', chanceoffog='0', chanceoffrost='0', chanceofhightemp='0', chanceofovercast='81', chanceofrain='0', chanceofremdry='82', chanceofsnow='0', chanceofsunshine='13', chanceofthunder='0', chanceofwindy='0', cloudcover='100', humidity='64', precipInches='0.0', precipMM='0.0', pressure='1032', pressureInches='30', tempC='10', tempF='50', time='0', uvIndex='0', visibility='10', visibilityMiles='6', weatherCode='122', weatherDesc=[WeatherDesc(value='Overcast ')], weatherIconUrl=[WeatherIconUrl(value='')], winddir16Point='E', winddirDegree='94', windspeedKmph='3', windspeedMiles='2'), HourlyForecast(DewPointC='4', DewPointF='39', FeelsLikeC='10', FeelsLikeF='49', HeatIndexC='10', HeatIndexF='50', WindChillC='10', WindChillF='49', WindGustKmph='8', WindGustMiles='5', chanceoffog='0', chanceoffrost='0', chanceofhightemp='0', chanceofovercast='89', chanceofrain='0', chanceofremdry='86', chanceofsnow='0', chanceofsunshine='9', chanceofthunder='0', chanceofwindy='0', cloudcover='100', humidity='65', precipInches='0.0', precipMM='0.0', pressure='1031', pressureInches='30', tempC='10', tempF='50', time='300', uvIndex='0', visibility='10', visibilityMiles='6', weatherCode='122', weatherDesc=[WeatherDesc(value='Overcast ')], weatherIconUrl=[WeatherIconUrl(value='')], winddir16Point='NE', winddirDegree='40', windspeedKmph='5', windspeedMiles='3'), HourlyForecast(DewPointC='4', DewPointF='38', FeelsLikeC='8', FeelsLikeF='46', HeatIndexC='8', HeatIndexF='47', WindChillC='8', WindChillF='46', WindGustKmph='10', WindGustMiles='6', chanceoffog='0', chanceoffrost='0', chanceofhightemp='0', chanceofovercast='0', chanceofrain='0', chanceofremdry='93', chanceofsnow='0', chanceofsunshine='85', chanceofthunder='0', chanceofwindy='0', cloudcover='16', humidity='72', precipInches='0.0', precipMM='0.0', pressure='1031', pressureInches='30', tempC='8', tempF='47', time='600', uvIndex='0', visibility='10', visibilityMiles='6', weatherCode='113', weatherDesc=[WeatherDesc(value='Clear ')], weatherIconUrl=[WeatherIconUrl(value='')], winddir16Point='NE', winddirDegree='42', windspeedKmph='5', windspeedMiles='3'), HourlyForecast(DewPointC='3', DewPointF='37', FeelsLikeC='11', FeelsLikeF='52', HeatIndexC='12', HeatIndexF='53', WindChillC='11', WindChillF='52', WindGustKmph='8', WindGustMiles='5', chanceoffog='0', chanceoffrost='0', chanceofhightemp='0', chanceofovercast='0', chanceofrain='0', chanceofremdry='81', chanceofsnow='0', chanceofsunshine='89', chanceofthunder='0', chanceofwindy='0', cloudcover='13', humidity='55', precipInches='0.0', precipMM='0.0', pressure='1031', pressureInches='30', tempC='12', tempF='53', time='900', uvIndex='0', visibility='10', visibilityMiles='6', weatherCode='113', weatherDesc=[WeatherDesc(value='Sunny')], weatherIconUrl=[WeatherIconUrl(value='')], winddir16Point='ENE', winddirDegree='70', windspeedKmph='6', windspeedMiles='4'), HourlyForecast(DewPointC='2', DewPointF='35', FeelsLikeC='15', FeelsLikeF='59', HeatIndexC='15', HeatIndexF='59', WindChillC='15', WindChillF='59', WindGustKmph='7', WindGustMiles='4', chanceoffog='0', chanceoffrost='0', chanceofhightemp='0', chanceofovercast='39', chanceofrain='0', chanceofremdry='82', chanceofsnow='0', chanceofsunshine='72', chanceofthunder='0', chanceofwindy='0', cloudcover='46', humidity='40', precipInches='0.0', precipMM='0.0', pressure='1030', pressureInches='30', tempC='15', tempF='59', time='1200', uvIndex='2', visibility='10', visibilityMiles='6', weatherCode='116', weatherDesc=[WeatherDesc(value='Partly Cloudy ')], weatherIconUrl=[WeatherIconUrl(value='')], winddir16Point='NE', winddirDegree='53', windspeedKmph='6', windspeedMiles='4'), HourlyForecast(DewPointC='1', DewPointF='34', FeelsLikeC='16', FeelsLikeF='60', HeatIndexC='16', HeatIndexF='60', WindChillC='16', WindChillF='60', WindGustKmph='6', WindGustMiles='4', chanceoffog='0', chanceoffrost='0', chanceofhightemp='0', chanceofovercast='92', chanceofrain='0', chanceofremdry='82', chanceofsnow='0', chanceofsunshine='8', chanceofthunder='0', chanceofwindy='0', cloudcover='67', humidity='37', precipInches='0.0', precipMM='0.0', pressure='1028', pressureInches='30', tempC='16', tempF='60', time='1500', uvIndex='1', visibility='10', visibilityMiles='6', weatherCode='119', weatherDesc=[WeatherDesc(value='Cloudy ')], weatherIconUrl=[WeatherIconUrl(value='')], winddir16Point='NNE', winddirDegree='20', windspeedKmph='5', windspeedMiles='3'), HourlyForecast(DewPointC='3', DewPointF='37', FeelsLikeC='12', FeelsLikeF='54', HeatIndexC='13', HeatIndexF='55', WindChillC='12', WindChillF='54', WindGustKmph='12', WindGustMiles='7', chanceoffog='0', chanceoffrost='0', chanceofhightemp='0', chanceofovercast='82', chanceofrain='0', chanceofremdry='84', chanceofsnow='0', chanceofsunshine='9', chanceofthunder='0', chanceofwindy='0', cloudcover='82', humidity='51', precipInches='0.0', precipMM='0.0', pressure='1028', pressureInches='30', tempC='13', tempF='55', time='1800', uvIndex='0', visibility='10', visibilityMiles='6', weatherCode='119', weatherDesc=[WeatherDesc(value='Cloudy ')], weatherIconUrl=[WeatherIconUrl(value='')], winddir16Point='NNE', winddirDegree='30', windspeedKmph='7', windspeedMiles='4'), HourlyForecast(DewPointC='5', DewPointF='40', FeelsLikeC='11', FeelsLikeF='52', HeatIndexC='11', HeatIndexF='52', WindChillC='11', WindChillF='52', WindGustKmph='9', WindGustMiles='6', chanceoffog='0', chanceoffrost='0', chanceofhightemp='0', chanceofovercast='80', chanceofrain='64', chanceofremdry='0', chanceofsnow='0', chanceofsunshine='0', chanceofthunder='0', chanceofwindy='0', cloudcover='93', humidity='63', precipInches='0.0', precipMM='0.0', pressure='1028', pressureInches='30', tempC='11', tempF='52', time='2100', uvIndex='0', visibility='10', visibilityMiles='6', weatherCode='176', weatherDesc=[WeatherDesc(value='Patchy rain nearby')], weatherIconUrl=[WeatherIconUrl(value='')], winddir16Point='NE', winddirDegree='48', windspeedKmph='5', windspeedMiles='3')], maxtempC='16', maxtempF='60', mintempC='8', mintempF='47', sunHour='10.0', totalSnow_cm='0.0', uvIndex='1'), DailyForecast(astronomy=[Astronomy(moon_illumination='79', moon_phase='Waxing Gibbous', moonrise='05:30 PM', moonset='01:44 AM', sunrise='07:11 AM', sunset='06:38 PM')], avgtempC='12', avgtempF='53', date='2025-10-03', hourly=[HourlyForecast(DewPointC='5', DewPointF='41', FeelsLikeC='10', FeelsLikeF='50', HeatIndexC='10', HeatIndexF='50', WindChillC='10', WindChillF='50', WindGustKmph='9', WindGustMiles='5', chanceoffog='0', chanceoffrost='0', chanceofhightemp='0', chanceofovercast='94', chanceofrain='0', chanceofremdry='90', chanceofsnow='0', chanceofsunshine='12', chanceofthunder='0', chanceofwindy='0', cloudcover='84', humidity='70', precipInches='0.0', precipMM='0.0', pressure='1027', pressureInches='30', tempC='10', tempF='50', time='0', uvIndex='0', visibility='10', visibilityMiles='6', weatherCode='119', weatherDesc=[WeatherDesc(value='Cloudy ')], weatherIconUrl=[WeatherIconUrl(value='')], winddir16Point='NE', winddirDegree='55', windspeedKmph='5', windspeedMiles='3'), HourlyForecast(DewPointC='5', DewPointF='41', FeelsLikeC='9', FeelsLikeF='48', HeatIndexC='9', HeatIndexF='49', WindChillC='9', WindChillF='48', WindGustKmph='9', WindGustMiles='5', chanceoffog='0', chanceoffrost='0', chanceofhightemp='0', chanceofovercast='46', chanceofrain='0', chanceofremdry='81', chanceofsnow='0', chanceofsunshine='82', chanceofthunder='0', chanceofwindy='0', cloudcover='56', humidity='74', precipInches='0.0', precipMM='0.0', pressure='1025', pressureInches='30', tempC='9', tempF='49', time='300', uvIndex='0', visibility='10', visibilityMiles='6', weatherCode='116', weatherDesc=[WeatherDesc(value='Partly Cloudy ')], weatherIconUrl=[WeatherIconUrl(value='')], winddir16Point='ENE', winddirDegree='63', windspeedKmph='5', windspeedMiles='3'), HourlyForecast(DewPointC='5', DewPointF='40', FeelsLikeC='8', FeelsLikeF='46', HeatIndexC='8', HeatIndexF='47', WindChillC='8', WindChillF='46', WindGustKmph='10', WindGustMiles='6', chanceoffog='0', chanceoffrost='0', chanceofhightemp='0', chanceofovercast='49', chanceofrain='0', chanceofremdry='92', chanceofsnow='0', chanceofsunshine='89', chanceofthunder='0', chanceofwindy='0', cloudcover='58', humidity='77', precipInches='0.0', precipMM='0.0', pressure='1025', pressureInches='30', tempC='8', tempF='47', time='600', uvIndex='0', visibility='10', visibilityMiles='6', weatherCode='116', weatherDesc=[WeatherDesc(value='Partly Cloudy ')], weatherIconUrl=[WeatherIconUrl(value='')], winddir16Point='NE', winddirDegree='37', windspeedKmph='6', windspeedMiles='4'), HourlyForecast(DewPointC='4', DewPointF='39', FeelsLikeC='10', FeelsLikeF='50', HeatIndexC='11', HeatIndexF='52', WindChillC='10', WindChillF='50', WindGustKmph='9', WindGustMiles='5', chanceoffog='0', chanceoffrost='0', chanceofhightemp='0', chanceofovercast='37', chanceofrain='0', chanceofremdry='88', chanceofsnow='0', chanceofsunshine='72', chanceofthunder='0', chanceofwindy='0', cloudcover='26', humidity='61', precipInches='0.0', precipMM='0.0', pressure='1025', pressureInches='30', tempC='11', tempF='52', time='900', uvIndex='0', visibility='10', visibilityMiles='6', weatherCode='116', weatherDesc=[WeatherDesc(value='Partly Cloudy ')], weatherIconUrl=[WeatherIconUrl(value='')], winddir16Point='ENE', winddirDegree='75', windspeedKmph='7', windspeedMiles='4'), HourlyForecast(DewPointC='3', DewPointF='37', FeelsLikeC='15', FeelsLikeF='58', HeatIndexC='15', HeatIndexF='58', WindChillC='15', WindChillF='58', WindGustKmph='7', WindGustMiles='5', chanceoffog='0', chanceoffrost='0', chanceofhightemp='0', chanceofovercast='0', chanceofrain='0', chanceofremdry='94', chanceofsnow='0', chanceofsunshine='89', chanceofthunder='0', chanceofwindy='0', cloudcover='18', humidity='45', precipInches='0.0', precipMM='0.0', pressure='1023', pressureInches='30', tempC='15', tempF='58', time='1200', uvIndex='2', visibility='10', visibilityMiles='6', weatherCode='113', weatherDesc=[WeatherDesc(value='Sunny')], weatherIconUrl=[WeatherIconUrl(value='')], winddir16Point='E', winddirDegree='91', windspeedKmph='6', windspeedMiles='4'), HourlyForecast(DewPointC='2', DewPointF='35', FeelsLikeC='15', FeelsLikeF='60', HeatIndexC='15', HeatIndexF='60', WindChillC='15', WindChillF='60', WindGustKmph='5', WindGustMiles='3', chanceoffog='0', chanceoffrost='0', chanceofhightemp='0', chanceofovercast='91', chanceofrain='0', chanceofremdry='87', chanceofsnow='0', chanceofsunshine='16', chanceofthunder='0', chanceofwindy='0', cloudcover='75', humidity='39', precipInches='0.0', precipMM='0.0', pressure='1022', pressureInches='30', tempC='15', tempF='60', time='1500', uvIndex='2', visibility='10', visibilityMiles='6', weatherCode='119', weatherDesc=[WeatherDesc(value='Cloudy ')], weatherIconUrl=[WeatherIconUrl(value='')], winddir16Point='E', winddirDegree='84', windspeedKmph='4', windspeedMiles='3'), HourlyForecast(DewPointC='2', DewPointF='35', FeelsLikeC='13', FeelsLikeF='55', HeatIndexC='13', HeatIndexF='56', WindChillC='13', WindChillF='55', WindGustKmph='13', WindGustMiles='8', chanceoffog='0', chanceoffrost='0', chanceofhightemp='0', chanceofovercast='83', chanceofrain='0', chanceofremdry='93', chanceofsnow='0', chanceofsunshine='11', chanceofthunder='0', chanceofwindy='0', cloudcover='63', humidity='46', precipInches='0.0', precipMM='0.0', pressure='1022', pressureInches='30', tempC='13', tempF='56', time='1800', uvIndex='0', visibility='10', visibilityMiles='6', weatherCode='119', weatherDesc=[WeatherDesc(value='Cloudy ')], weatherIconUrl=[WeatherIconUrl(value='')], winddir16Point='E', winddirDegree='96', windspeedKmph='8', windspeedMiles='5'), HourlyForecast(DewPointC='2', DewPointF='35', FeelsLikeC='10', FeelsLikeF='50', HeatIndexC='12', HeatIndexF='53', WindChillC='10', WindChillF='50', WindGustKmph='19', WindGustMiles='12', chanceoffog='0', chanceoffrost='0', chanceofhightemp='0', chanceofovercast='0', chanceofrain='0', chanceofremdry='87', chanceofsnow='0', chanceofsunshine='94', chanceofthunder='0', chanceofwindy='0', cloudcover='12', humidity='50', precipInches='0.0', precipMM='0.0', pressure='1022', pressureInches='30', tempC='12', tempF='53', time='2100', uvIndex='0', visibility='10', visibilityMiles='6', weatherCode='113', weatherDesc=[WeatherDesc(value='Clear ')], weatherIconUrl=[WeatherIconUrl(value='')], winddir16Point='ESE', winddirDegree='108', windspeedKmph='12', windspeedMiles='7')], maxtempC='15', maxtempF='60', mintempC='8', mintempF='47', sunHour='10.3', totalSnow_cm='0.0', uvIndex='1')] metadata=ResponseMetadata(is_real_data=True, is_cached=False, is_mock=False, status_code=200, error_type=None, error_message=None, url='http://wttr.in/Berlin?m0&format=j1', timestamp=1759338986.620606)\n"
          ]
        }
      ]
    },
    {
      "cell_type": "markdown",
      "id": "8a744fdc",
      "metadata": {
        "id": "8a744fdc"
      },
      "source": [
        "## 📊 Visualisation Functions"
      ]
    },
    {
      "cell_type": "code",
      "execution_count": null,
      "id": "9dc3bf85",
      "metadata": {
        "id": "9dc3bf85"
      },
      "outputs": [],
      "source": [
        "# Define create_temperature_visualisation() and create_precipitation_visualisation() here\n",
        "def create_temperature_visualisation(weather_data, output_type='display'):\n",
        "    \"\"\"\n",
        "    Create visualisation of temperature data.\n",
        "\n",
        "    Args:\n",
        "        weather_data (dict): The processed weather data\n",
        "        output_type (str): Either 'display' to show in notebook or 'figure' to return the figure\n",
        "\n",
        "    Returns:\n",
        "        If output_type is 'figure', returns the matplotlib figure object\n",
        "        Otherwise, displays the visualisation in the notebook\n",
        "    \"\"\"\n",
        "    pass\n"
      ]
    },
    {
      "cell_type": "code",
      "source": [
        "\n",
        "def create_precipitation_visualisation(weather_data, output_type='display'):\n",
        "    \"\"\"\n",
        "    Create visualisation of precipitation data.\n",
        "\n",
        "    Args:\n",
        "        weather_data (dict): The processed weather data\n",
        "        output_type (str): Either 'display' to show in notebook or 'figure' to return the figure\n",
        "\n",
        "    Returns:\n",
        "        If output_type is 'figure', returns the matplotlib figure object\n",
        "        Otherwise, displays the visualisation in the notebook\n",
        "    \"\"\"\n",
        "    pass"
      ],
      "metadata": {
        "id": "HpOlQylYG5Ho"
      },
      "id": "HpOlQylYG5Ho",
      "execution_count": null,
      "outputs": []
    },
    {
      "cell_type": "markdown",
      "id": "9f95d160",
      "metadata": {
        "id": "9f95d160"
      },
      "source": [
        "## 🤖 Natural Language Processing"
      ]
    },
    {
      "cell_type": "code",
      "execution_count": null,
      "id": "bcc5833e",
      "metadata": {
        "id": "bcc5833e"
      },
      "outputs": [],
      "source": [
        "# Define parse_weather_question() and generate_weather_response() here\n",
        "def parse_weather_question(question):\n",
        "    \"\"\"\n",
        "    Parse a natural language weather question.\n",
        "\n",
        "    Args:\n",
        "        question (str): User's weather-related question\n",
        "\n",
        "    Returns:\n",
        "        dict: Extracted information including location, time period, and weather attribute\n",
        "    \"\"\"\n",
        "    pass"
      ]
    },
    {
      "cell_type": "markdown",
      "id": "0d85225e",
      "metadata": {
        "id": "0d85225e"
      },
      "source": [
        "## 🧭 User Interface"
      ]
    },
    {
      "cell_type": "code",
      "execution_count": null,
      "id": "fa6cb0f6",
      "metadata": {
        "id": "fa6cb0f6"
      },
      "outputs": [],
      "source": [
        "# Define menu functions using pyinputplus or ipywidgets here"
      ]
    },
    {
      "cell_type": "markdown",
      "id": "d643a53c",
      "metadata": {
        "id": "d643a53c"
      },
      "source": [
        "## 🧩 Main Application Logic"
      ]
    },
    {
      "cell_type": "code",
      "execution_count": null,
      "id": "a9e2e805",
      "metadata": {
        "id": "a9e2e805"
      },
      "outputs": [],
      "source": [
        "# Tie everything together here\n",
        "def generate_weather_response(parsed_question, weather_data):\n",
        "    \"\"\"\n",
        "    Generate a natural language response to a weather question.\n",
        "\n",
        "    Args:\n",
        "        parsed_question (dict): Parsed question data\n",
        "        weather_data (dict): Weather data\n",
        "\n",
        "    Returns:\n",
        "        str: Natural language response\n",
        "    \"\"\"\n",
        "    pass"
      ]
    },
    {
      "cell_type": "markdown",
      "id": "fde44479",
      "metadata": {
        "id": "fde44479"
      },
      "source": [
        "## 🧪 Testing and Examples"
      ]
    },
    {
      "cell_type": "code",
      "execution_count": null,
      "id": "4e573901",
      "metadata": {
        "id": "4e573901"
      },
      "outputs": [],
      "source": [
        "# Include sample input/output for each function"
      ]
    },
    {
      "cell_type": "markdown",
      "id": "d2885880",
      "metadata": {
        "id": "d2885880"
      },
      "source": [
        "## 🗂️ AI Prompting Log (Optional)\n",
        "Add markdown cells here summarising prompts used or link to AI conversations in the `ai-conversations/` folder."
      ]
    }
  ],
  "metadata": {
    "language_info": {
      "name": "python"
    },
    "colab": {
      "provenance": [],
      "include_colab_link": true
    },
    "kernelspec": {
      "name": "python3",
      "display_name": "Python 3"
    }
  },
  "nbformat": 4,
  "nbformat_minor": 5
}